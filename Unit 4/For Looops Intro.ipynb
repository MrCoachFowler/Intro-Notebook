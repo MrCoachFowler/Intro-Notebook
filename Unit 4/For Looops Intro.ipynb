{
 "cells": [
  {
   "cell_type": "markdown",
   "id": "6ac8e467",
   "metadata": {},
   "source": [
    "    Warmup:\n",
    "\n",
    "Run the following code then answer these questions:\n",
    "\n",
    "What happened? ...\n",
    "\n",
    "What would we have to do if single_fruit had 100 fruits in it? ...\n"
   ]
  },
  {
   "cell_type": "code",
   "execution_count": null,
   "id": "550bfe9d",
   "metadata": {},
   "outputs": [],
   "source": [
    "single_fruit = ['apple', 'banana', 'watermelon', 'grape']\n",
    "multi_fruit = []\n",
    "multi_fruit.append(single_fruit[0] + 's')\n",
    "multi_fruit.append(single_fruit[1] + 's')\n",
    "multi_fruit.append(single_fruit[2] + 's')\n",
    "multi_fruit.append(single_fruit[3] + 's')\n",
    "print(multi_fruit)"
   ]
  },
  {
   "cell_type": "markdown",
   "id": "3c6e8a7a",
   "metadata": {},
   "source": [
    "Run the following code and answer these questions:\n",
    "\n",
    "What happened? ...\n",
    "\n",
    "What would we have to do if list_of_numbers had 100 numbers in it? ..."
   ]
  },
  {
   "cell_type": "code",
   "execution_count": null,
   "id": "33ad013a",
   "metadata": {},
   "outputs": [],
   "source": [
    "list_of_numbers = [3, 5, 10, 23]\n",
    "for num in list_of_numbers:\n",
    "    print(\"num is \" + str(num))"
   ]
  },
  {
   "cell_type": "markdown",
   "id": "91b0218a",
   "metadata": {},
   "source": [
    "Now, in the following code block, use the structure of the list_of_numbers example but print the same result as the multi_fruit example."
   ]
  },
  {
   "cell_type": "code",
   "execution_count": null,
   "id": "65185a94",
   "metadata": {},
   "outputs": [],
   "source": [
    "single_fruit = ['apple', 'banana', 'watermelon', 'grape']\n",
    "multi_fruit = []\n",
    "\n",
    "...\n",
    "\n",
    "print(multi_fruit)"
   ]
  },
  {
   "cell_type": "markdown",
   "id": "e5f321c7",
   "metadata": {},
   "source": [
    "    1. For Loops\n",
    "For loops are a sequence of code that is repeated a predeteremined number of times\n",
    "\n",
    "An iteration refers to a single pass through a loop. While loops and for loops both have 'iterations'\n",
    "\n",
    "The following code shows a for loop. It runs once for each number in the list of numbers. For each iteration, it prints the iteration index and the value of num during that iteration\n",
    "\n",
    "Notice the syntax:\n",
    "\n",
    "for\n",
    "\n",
    "Gives a variable to refer to the item of the current iteration\n",
    "\n",
    "in\n",
    "\n",
    "Gives the list, string, or other iterable to run the code\n",
    "\n",
    ":\n",
    "\n",
    "Code is then indented afterwards for as long as the code you are writing should be in the loop"
   ]
  },
  {
   "cell_type": "code",
   "execution_count": null,
   "id": "ce2183e8",
   "metadata": {},
   "outputs": [],
   "source": [
    "list_of_numbers = [3, 5, 10, 23]\n",
    "iteration_counter = 1\n",
    "for num in list_of_numbers:\n",
    "    print('iteration:', iteration_counter, ', num:', num)\n",
    "    iteration_counter += 1"
   ]
  },
  {
   "cell_type": "markdown",
   "id": "98183ff4",
   "metadata": {},
   "source": [
    "    2. Iterating through lists and strings\n",
    "For loops are very useful when you need to analyze all items in a list. It's also helpful if you want to inspect all letters in a string\n",
    "\n",
    "The above code iterates through a list, list_of_numbers. The following code iterates through a string, one letter at a time!"
   ]
  },
  {
   "cell_type": "code",
   "execution_count": null,
   "id": "022c16fd",
   "metadata": {},
   "outputs": [],
   "source": [
    "a_string = 'text'\n",
    "iteration = 1\n",
    "for char in a_string:\n",
    "    print('Iteration:', iteration, ', char:', char)"
   ]
  },
  {
   "cell_type": "markdown",
   "id": "fad7df00",
   "metadata": {},
   "source": [
    "    ***Activities***\n",
    "\n",
    "A1. de_vowel function\n",
    "\n",
    "Create a function that takes a string parameter. It should print the same string but without all of the vowels (a, e, i, o, u)\n",
    "\n",
    "Call the function on the test data to verify it's working"
   ]
  },
  {
   "cell_type": "code",
   "execution_count": null,
   "id": "e355d592",
   "metadata": {},
   "outputs": [],
   "source": [
    "testData1 = 'apples and oranges' \n",
    "testData2 = 'XYZ' \n",
    "testData3 = 'aeiou'\n",
    "testData4 = '' #replace this with your own test data. Maybe your name? Favorite TV show? Whatever...\n",
    "\n",
    "def de_vowel(a_sring):\n",
    "    ...\n",
    "\n",
    "de_vowel(testData1)\n",
    "de_vowel(testData2)\n",
    "de_vowel(testData3)\n",
    "de_vowel(testData4)"
   ]
  },
  {
   "cell_type": "markdown",
   "id": "9c6743ed",
   "metadata": {},
   "source": [
    "A2. count_vowels function\n",
    "\n",
    "Create a function that reads the test data and returns the number of vowels in the word\n",
    "\n",
    "Then print the result for each test data"
   ]
  },
  {
   "cell_type": "code",
   "execution_count": null,
   "id": "35176918",
   "metadata": {},
   "outputs": [],
   "source": [
    "testData1 = 'apples and oranges' \n",
    "testData2 = 'XYZ' \n",
    "testData3 = 'aeiou'\n",
    "testData4 = '' #replace this with your own test data. Maybe your name? Favorite TV show? Whatever...\n",
    "\n",
    "def count_vowels(a_sring):\n",
    "    ..."
   ]
  }
 ],
 "metadata": {
  "kernelspec": {
   "display_name": "Python 3",
   "language": "python",
   "name": "python3"
  },
  "language_info": {
   "codemirror_mode": {
    "name": "ipython",
    "version": 3
   },
   "file_extension": ".py",
   "mimetype": "text/x-python",
   "name": "python",
   "nbconvert_exporter": "python",
   "pygments_lexer": "ipython3",
   "version": "3.12.5"
  }
 },
 "nbformat": 4,
 "nbformat_minor": 5
}
