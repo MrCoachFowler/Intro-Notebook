{
 "cells": [
  {
   "cell_type": "markdown",
   "id": "d6d30998",
   "metadata": {},
   "source": [
    "    Warmup:\n",
    "After running the following code, answer the following questions:\n",
    "\n",
    "1. What do you think randint() does? ...\n",
    "2. Where does the variable 'random' come from? ...\n",
    "3. What do the 0 and 3 in the randint() function do? ...\n",
    "4. What would happen if you changed the 0 and 3? ..."
   ]
  },
  {
   "cell_type": "code",
   "execution_count": null,
   "id": "eadc2cdf",
   "metadata": {},
   "outputs": [],
   "source": [
    "import random\n",
    "\n",
    "print( random.randint(0,3) )\n",
    "print( random.randint(0,3) )\n",
    "print( random.randint(0,3) )"
   ]
  },
  {
   "cell_type": "markdown",
   "id": "ab0996f4",
   "metadata": {},
   "source": [
    "5. In the following code cell, write a program that simulates rolling a 6 sided die"
   ]
  },
  {
   "cell_type": "code",
   "execution_count": null,
   "id": "bae1b074",
   "metadata": {},
   "outputs": [],
   "source": [
    "import random\n",
    "\n",
    "..."
   ]
  },
  {
   "cell_type": "markdown",
   "id": "e1813768",
   "metadata": {},
   "source": [
    "6. How could we use this new power to get a random card from the deck?\n",
    "\n",
    "..."
   ]
  },
  {
   "cell_type": "markdown",
   "id": "3b102e45",
   "metadata": {},
   "source": [
    "    1. Functions\n",
    "Functions are a stored set of instructions. Think of it like making a plan with a computer. \"When I say this word, I want you to do these steps\"\n",
    "\n",
    "Functions help reduce redundancy, increase efficient bug fixing, and improve readability\n",
    "\n",
    "Luckily. python has some functions that come with it to make programming easier!\n",
    "\n",
    "To call a function, you must say it's name followed by paranthesis surrounding all required parameters.\n",
    "\n",
    "Fun fact, when you are giving values to call a function, they are called arguments\n",
    "\n",
    "Syntax:\n",
    ">name_of_function(arg0, arg1, arg2, ...)\n",
    "\n",
    "If the function returns a value you want to keep, you can assign it to the response of the function\n",
    "\n",
    ">value_to_keep = name_of_function(arg0, arg1, arg2, ...)\n"
   ]
  }
 ],
 "metadata": {
  "kernelspec": {
   "display_name": ".venv",
   "language": "python",
   "name": "python3"
  },
  "language_info": {
   "codemirror_mode": {
    "name": "ipython",
    "version": 3
   },
   "file_extension": ".py",
   "mimetype": "text/x-python",
   "name": "python",
   "nbconvert_exporter": "python",
   "pygments_lexer": "ipython3",
   "version": "3.12.3"
  }
 },
 "nbformat": 4,
 "nbformat_minor": 5
}
