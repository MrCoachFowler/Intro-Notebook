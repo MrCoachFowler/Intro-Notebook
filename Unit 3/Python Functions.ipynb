{
 "cells": [
  {
   "cell_type": "markdown",
   "id": "d6d30998",
   "metadata": {},
   "source": [
    "    Warmup:\n",
    "After running the following code, answer the following questions:\n",
    "\n",
    "1. What do you think randint() does? ...\n",
    "2. Where does the variable 'random' come from? ...\n",
    "3. What do the 0 and 3 in the randint() function do? ...\n",
    "4. What would happen if you changed the 0 and 3? ..."
   ]
  },
  {
   "cell_type": "code",
   "execution_count": null,
   "id": "eadc2cdf",
   "metadata": {},
   "outputs": [],
   "source": [
    "import random\n",
    "\n",
    "print( random.randint(0,3) )\n",
    "print( random.randint(0,3) )\n",
    "print( random.randint(0,3) )"
   ]
  },
  {
   "cell_type": "markdown",
   "id": "ab0996f4",
   "metadata": {},
   "source": [
    "5. In the following code cell, write a program that simulates rolling a 6 sided die"
   ]
  },
  {
   "cell_type": "code",
   "execution_count": null,
   "id": "bae1b074",
   "metadata": {},
   "outputs": [],
   "source": [
    "import random\n",
    "\n",
    "..."
   ]
  },
  {
   "cell_type": "markdown",
   "id": "e1813768",
   "metadata": {},
   "source": [
    "6. How could we use this new power to get a random card from the deck?\n",
    "\n",
    "..."
   ]
  },
  {
   "cell_type": "markdown",
   "id": "3b102e45",
   "metadata": {},
   "source": [
    "    1. Functions\n",
    "Functions are a stored set of instructions. Think of it like making a plan with a computer. \"When I say this word, I want you to do these steps\"\n",
    "\n",
    "Functions help reduce redundancy, increase efficient bug fixing, and improve readability\n",
    "\n",
    "Luckily. python has some functions that come with it to make programming easier!\n",
    "\n",
    "To call a function, you must say it's name followed by paranthesis surrounding all required parameters.\n",
    "\n",
    "Fun fact, when you are giving values to call a function, they are called arguments\n",
    "\n",
    "Syntax:\n",
    ">name_of_function(arg0, arg1, arg2, ...)\n",
    "\n",
    "If the function returns a value you want to keep, you can assign it to the response of the function\n",
    "\n",
    ">value_to_keep = name_of_function(arg0, arg1, arg2, ...)\n",
    "\n",
    "example:"
   ]
  },
  {
   "cell_type": "code",
   "execution_count": null,
   "id": "c6ae969b",
   "metadata": {},
   "outputs": [],
   "source": [
    "a_list = ['a', 'b', 'c']\n",
    "a_list_length = len(a_list) #function that returns something\n",
    "print(a_list_length) #function that returns None\n"
   ]
  },
  {
   "cell_type": "markdown",
   "id": "7f7d6ca9",
   "metadata": {},
   "source": [
    "1a. Look at the following code then answer the questions:\n",
    "\n",
    "What is/are the argument(s) used for the print() function?\n",
    "\n",
    "...\n",
    "\n",
    "What is/are the argument(s) used for the randint() function?\n",
    "\n",
    "..."
   ]
  },
  {
   "cell_type": "code",
   "execution_count": null,
   "id": "0c64c75a",
   "metadata": {},
   "outputs": [],
   "source": [
    "import random\n",
    "\n",
    "print( random.randint(0, 10) )"
   ]
  },
  {
   "cell_type": "markdown",
   "id": "7815764d",
   "metadata": {},
   "source": [
    "    ***Activities***"
   ]
  },
  {
   "cell_type": "markdown",
   "id": "23d79d51",
   "metadata": {},
   "source": [
    "A1a. Create a code segment (including necessary imports) simulating a dice roll"
   ]
  },
  {
   "cell_type": "code",
   "execution_count": null,
   "id": "750bfd7e",
   "metadata": {},
   "outputs": [],
   "source": [
    "..."
   ]
  },
  {
   "cell_type": "markdown",
   "id": "3cca2854",
   "metadata": {},
   "source": [
    "A1b. Use your knowledge from above to write code to simulate the first yahtzee dice of a turn "
   ]
  },
  {
   "cell_type": "code",
   "execution_count": null,
   "id": "9e1e5f48",
   "metadata": {},
   "outputs": [],
   "source": [
    "..."
   ]
  },
  {
   "cell_type": "markdown",
   "id": "971349fe",
   "metadata": {},
   "source": [
    "A2. Create a magic 8-ball program:\n",
    "    1. Create a list of 8 possible magic 8-ball responses\n",
    "    2. Prompt the user for an input where they ask a question to the magic 8 ball\n",
    "    3. Print a random response from the magic 8-ball"
   ]
  },
  {
   "cell_type": "code",
   "execution_count": null,
   "id": "ef59eeac",
   "metadata": {},
   "outputs": [],
   "source": [
    "..."
   ]
  },
  {
   "cell_type": "markdown",
   "id": "2a7ab5bb",
   "metadata": {},
   "source": [
    "A3. Challenge: Dice Rolling Simulation\n",
    "1. Two six sided die\n",
    "\n",
    "a. Simulate rolling 2 six sided dice 100 items\n",
    "\n",
    "b. Use a list to keep track of their sums\n",
    "\n",
    "2. One twelve sided die\n",
    "\n",
    "a. Simulate rolling 1 twelve sided die 100 times\n",
    "\n",
    "b. Use a list to keep track of its result\n",
    "\n",
    "3. Compare their means and standard deviations. Why might this pattern exist?\n",
    "\n",
    "...\n",
    "\n",
    "Some starter code is written for you to calculate the mean and standard deviations. Please leave it there and edit the ... part"
   ]
  },
  {
   "cell_type": "code",
   "execution_count": null,
   "id": "6c8a0582",
   "metadata": {},
   "outputs": [],
   "source": [
    "from statistics import mean, stdev\n",
    "\n",
    "two_sixes_results = [0] * 12 #1, 2, 3, 4, 5, 6, 7, 8, 9, 10, 11, 12\n",
    "one_twelve_results = [0] * 12 #1, 2, 3, 4, 5, 6, 7, 8, 9, 10, 11, 12\n",
    "\n",
    "...\n",
    "\n",
    "print('Two sixes:')\n",
    "print('mean:' , mean(two_sixes_results))\n",
    "print('stdev:' , stdev(two_sixes_results))\n",
    "\n",
    "print('One Twelve:')\n",
    "print('mean:' , mean(one_twelve_results))\n",
    "print('stdev:' , stdev(one_twelve_results))"
   ]
  }
 ],
 "metadata": {
  "kernelspec": {
   "display_name": ".venv",
   "language": "python",
   "name": "python3"
  },
  "language_info": {
   "codemirror_mode": {
    "name": "ipython",
    "version": 3
   },
   "file_extension": ".py",
   "mimetype": "text/x-python",
   "name": "python",
   "nbconvert_exporter": "python",
   "pygments_lexer": "ipython3",
   "version": "3.12.3"
  }
 },
 "nbformat": 4,
 "nbformat_minor": 5
}
