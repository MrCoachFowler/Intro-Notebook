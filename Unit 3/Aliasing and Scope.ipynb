{
 "cells": [
  {
   "cell_type": "markdown",
   "metadata": {},
   "source": [
    "    Warmup:\n",
    "W1. Run the following code then answer the questions:\n",
    "\n",
    "What did the program output? \n",
    "\n",
    "...\n",
    "\n",
    "What does the function do?\n",
    "\n",
    "..."
   ]
  },
  {
   "cell_type": "code",
   "execution_count": null,
   "metadata": {
    "vscode": {
     "languageId": "plaintext"
    }
   },
   "outputs": [],
   "source": [
    "my_list = ['a', 'b', 'c', 'd']\n",
    "\n",
    "def my_function(list_argument):\n",
    "   list_argument[0] = 'z'\n",
    "   \n",
    "print(my_list)\n",
    "my_function(my_list)\n",
    "print(my_list)\n"
   ]
  },
  {
   "cell_type": "markdown",
   "metadata": {},
   "source": [
    "W2. Before running the following code, predict its output:\n",
    "\n",
    "..."
   ]
  },
  {
   "cell_type": "code",
   "execution_count": null,
   "metadata": {
    "vscode": {
     "languageId": "plaintext"
    }
   },
   "outputs": [],
   "source": [
    "def double_print(input_string):\n",
    "  loopCounter = 0\n",
    "  while loopCounter < 2:\n",
    "    loopCounter += 1\n",
    "    print(input_string)\n",
    " \n",
    "def double_concat(part1, part2):\n",
    "  concat = part1 + \", \" + part2\n",
    "  double_print(concat)\n",
    "\n",
    "str1 = \"Hello\"\n",
    "str2 = \"world\"\n",
    "double_concat(str1, str2 + \"!\")\n"
   ]
  },
  {
   "cell_type": "markdown",
   "metadata": {},
   "source": [
    "    1. Aliasing\n",
    "Aliasing refers to the fact that one name can refer to many different values and one value can go by more than one name\n",
    "\n",
    "    2. Scope\n",
    "Scope refers to where a variable is accessible. \n",
    "\n",
    "For instance, students tend to forget things they learned over summer because they aren't being tested on it. Computers do the same thing with variables:\n",
    "\n",
    "If a computer needed a value in a function but the function is done running, the computer will forget that variable\n",
    "\n",
    "2a. Run the following code. Then answer the questions:\n",
    "    i. What happened when you ran the code?\n",
    "\n",
    "    ...\n",
    "\n",
    "    ii. Why does the code do this?\n",
    "\n",
    "    ..."
   ]
  },
  {
   "cell_type": "code",
   "execution_count": null,
   "metadata": {
    "vscode": {
     "languageId": "plaintext"
    }
   },
   "outputs": [],
   "source": [
    "starter = 1\n",
    "\n",
    "def fiveTimesTwoMore(value):\n",
    "    mid = value + 2\n",
    "    return mid*5\n",
    "\n",
    "fiveTimesTwoMore(starter)\n",
    "print(mid)"
   ]
  },
  {
   "cell_type": "markdown",
   "metadata": {},
   "source": [
    "    3. Local vs Global Scope\n",
    "\n",
    "When a value is declared in a function, it exists in the 'local' scope. That means it can only be accessed in the scope of that function or in the scope of functions it is passed into\n",
    "\n",
    "Global variables can be used in any scope no matter where they are declared. They are often written in all caps snake case so it is very obvious they are global. We will use natural globals (normal variables created in the file). There is a way to force a variable to be global but we will not be using it.\n",
    "\n",
    "WARNING: Forced global variables have little use in industry. For instance, if a programmer decides the value of x = 3 globally, how could that cause issues?\n",
    "\n",
    "..."
   ]
  },
  {
   "cell_type": "code",
   "execution_count": null,
   "metadata": {
    "vscode": {
     "languageId": "plaintext"
    }
   },
   "outputs": [],
   "source": [
    "#example of a natural global\n",
    "\n",
    "TURN_COUNTER = 4 #all caps variable created in the global scope\n",
    "\n",
    "for i in range(TURN_COUNTER):\n",
    "    print(i + 1)"
   ]
  },
  {
   "cell_type": "code",
   "execution_count": null,
   "metadata": {
    "vscode": {
     "languageId": "plaintext"
    }
   },
   "outputs": [],
   "source": [
    "#example of a forced global\n",
    "#(Don't do this pls)\n",
    "\n",
    "def setTurnCounter(newVal)\n",
    "    global TURN_COUNTER = newVal\n",
    "\n",
    "setTurnCounter(4)\n",
    "for i in range(TURN_COUNTER):\n",
    "    print(i + 1)"
   ]
  },
  {
   "cell_type": "markdown",
   "metadata": {},
   "source": [
    "    4. Stack Diagrams\n",
    "With all the different scopes used in a program, you might guess it could get confusing.\n",
    "\n",
    "Programmers use stack diagrams to figure out what variables are in what scope and what their value is in that scope\n",
    "\n",
    "We will refer to the scope of the python file as MAIN and the scope of each function by their name.\n",
    "\n",
    "Look at the code segment again and compare it to its stack diagram:"
   ]
  },
  {
   "cell_type": "code",
   "execution_count": null,
   "metadata": {
    "vscode": {
     "languageId": "plaintext"
    }
   },
   "outputs": [],
   "source": [
    "def double_print(input_string):\n",
    "  loopCounter = 0\n",
    "  while loopCounter < 2:\n",
    "    loopCounter += 1\n",
    "    print(input_string)\n",
    " \n",
    "def double_concat(part1, part2):\n",
    "  concat = part1 + \", \" + part2\n",
    "  double_print(concat)\n",
    "\n",
    "str1 = \"Hello\"\n",
    "str2 = \"world\"\n",
    "double_concat(str1, str2 + \"!\")"
   ]
  },
  {
   "cell_type": "markdown",
   "metadata": {},
   "source": [
    "Stack Diagram:\n",
    "\n",
    "GLOBAL:\n",
    "str1 = 'Hello'\n",
    "str2 = 'world'\n",
    "\n",
    "double_concat:\n",
    "str1 = part1 = 'Hello'\n",
    "str2 = part2 = 'world'\n",
    "\n",
    "double_print:\n",
    "str1 = 'Hello'\n",
    "str2 = 'world'\n",
    "input_string = 'Hello world!'"
   ]
  },
  {
   "cell_type": "markdown",
   "metadata": {},
   "source": [
    "4a. Looking at the code and stack diagram, answer the following questions:\n",
    "\n",
    "i. Why is str1 and str2 in the scope of all functions?\n",
    "\n",
    "...\n",
    "\n",
    "ii. What are two aliases for a string which holds the value 'Hello'?\n",
    "\n",
    "... , ...\n",
    "\n",
    "iii. Why isn't part1 and part2 in the scope of double_print?\n",
    "\n",
    "...\n",
    "\n",
    "iv. How could we get part1 and part2 in the scope of double_print without forcing them to be global?\n",
    "\n",
    "..."
   ]
  },
  {
   "cell_type": "markdown",
   "metadata": {},
   "source": [
    "    5. Stack Traces\n",
    "\n",
    "You might've noticed python will give you feedback when there is an error. This is the stack trace. It keeps track of all values in the current scope and reports if an issue arises. This is your best friend when debugging. If you find a bug and want help, the first thing you should inform people of is the stack trace error.\n",
    "\n",
    "Before running the following code, what error will the stack trace give you?\n",
    "\n",
    "..."
   ]
  },
  {
   "cell_type": "code",
   "execution_count": null,
   "metadata": {
    "vscode": {
     "languageId": "plaintext"
    }
   },
   "outputs": [],
   "source": [
    "def double_print(input_string):\n",
    "  print(part1)\n",
    "  loopCounter = 0\n",
    "  while loopCounter < 2:\n",
    "    loopCounter += 1\n",
    "    print(input_string)\n",
    " \n",
    "def double_concat(part1, part2):\n",
    "  concat = part1 + \", \" + part2\n",
    "  double_print(concat)\n",
    "\n",
    "str1 = \"Hello\"\n",
    "str2 = \"world\"\n",
    "double_concat(str1, str2 + \"!\")"
   ]
  },
  {
   "cell_type": "markdown",
   "metadata": {},
   "source": [
    "    ***Activities***\n",
    "\n",
    "The first activity will highlight the differences between how variables and lists are copied.\n",
    "\n",
    "Before running the following code, predict what will print on each line:\n",
    "\n",
    "A1a - 4. ...\n",
    "\n",
    "A1a - 5. ...\n",
    "\n",
    "A1a - 10. ...\n",
    "\n",
    "A1a - 11. ...\n"
   ]
  },
  {
   "cell_type": "code",
   "execution_count": null,
   "metadata": {
    "vscode": {
     "languageId": "plaintext"
    }
   },
   "outputs": [],
   "source": [
    "a = 5\n",
    "b = a\n",
    "b += 3\n",
    "print(a)\n",
    "print(b)\n",
    "\n",
    "a = [1, 2, 4]\n",
    "b = a\n",
    "b[2] = 3\n",
    "print(a)\n",
    "print(b)"
   ]
  },
  {
   "cell_type": "markdown",
   "metadata": {},
   "source": [
    "A1b. In your own words, explain how aliasing affects variables and lists differently:\n",
    "\n",
    "..."
   ]
  },
  {
   "cell_type": "markdown",
   "metadata": {},
   "source": [
    "A2. Create a stack diagram for the following code:\n",
    "\n",
    "GLOBAL:\n",
    "\n",
    "...\n",
    "\n",
    "my_function:\n",
    "\n",
    "...\n",
    "\n",
    "my_function_2:\n",
    "\n",
    "..."
   ]
  },
  {
   "cell_type": "code",
   "execution_count": null,
   "metadata": {
    "vscode": {
     "languageId": "plaintext"
    }
   },
   "outputs": [],
   "source": [
    "var_1 = 'kitten'\n",
    "var_2 = 'cookies'\n",
    "\n",
    "def my_function(my_fav_things):\n",
    "    song_lyrics = 'raindrops on roses, '\n",
    "    combined_song = song_lyrics + my_fav_things\n",
    "    return combined_song\n",
    "\n",
    "def my_function_2(item0, item1):\n",
    "    full_lyrics = item0 + ' on ' + item1\n",
    "    full_song = my_function(full_lyrics)\n",
    "    return full_song\n",
    "\n",
    "my_song = my_function_2(var_1, var_2)"
   ]
  },
  {
   "cell_type": "markdown",
   "metadata": {},
   "source": [
    "A3a. For the following code,\n",
    "\n",
    "i. What, if anything, is wrong? \n",
    "\n",
    "...\n",
    "\n",
    "ii. If there is an issue, how would you fix it?\n",
    "\n",
    "...\n",
    "\n",
    "iii. Run the code and write what actually happened:\n",
    "\n",
    "..."
   ]
  },
  {
   "cell_type": "code",
   "execution_count": null,
   "metadata": {
    "vscode": {
     "languageId": "plaintext"
    }
   },
   "outputs": [],
   "source": [
    "VAR1 = 'cat'\n",
    "VAR2 = 'dog'\n",
    "\n",
    "def print_out_my_favorite(favorite_pet):\n",
    "    if favorite_pet == VAR1:\n",
    "        print('My favorite pet is the cat')\n",
    "    if favorite_pet == VAR2:\n",
    "        print('My favorite pet is the dog')\n",
    "    VAR1 = 'dog'\n",
    "    VAR2 = 'cat'\n",
    "\n",
    "print_out_my_favorite(VAR1)\n",
    "print('VAR1:', VAR1 , 'VAR2:' , VAR2)"
   ]
  },
  {
   "cell_type": "markdown",
   "metadata": {},
   "source": [
    "A3b. For the following code,\n",
    "\n",
    "i. What, if anything, is wrong? \n",
    "\n",
    "...\n",
    "\n",
    "ii. If there is an issue, how would you fix it?\n",
    "\n",
    "...\n",
    "\n",
    "iii. Run the code and write what actually happened:\n",
    "\n",
    "..."
   ]
  },
  {
   "cell_type": "code",
   "execution_count": null,
   "metadata": {
    "vscode": {
     "languageId": "plaintext"
    }
   },
   "outputs": [],
   "source": [
    "VAR1 = 'cat'\n",
    "VAR2 = 'dog'\n",
    "\n",
    "def print_out_my_favorite(favorite_pet):\n",
    "    VAR1 = 'dog'\n",
    "    VAR2 = 'cat'\n",
    "    if favorite_pet == VAR1:\n",
    "        print('My favorite pet is the cat')\n",
    "    if favorite_pet == VAR2:\n",
    "        print('My favorite pet is the dog')\n",
    "\n",
    "print_out_my_favorite(VAR1)\n",
    "print('VAR1:', VAR1 , 'VAR2:' , VAR2)"
   ]
  },
  {
   "cell_type": "markdown",
   "metadata": {},
   "source": [
    "A3c. For the following code,\n",
    "\n",
    "i. What, if anything, is wrong? \n",
    "\n",
    "...\n",
    "\n",
    "ii. If there is an issue, how would you fix it?\n",
    "\n",
    "...\n",
    "\n",
    "iii. Run the code and write what actually happened:\n",
    "\n",
    "..."
   ]
  },
  {
   "cell_type": "code",
   "execution_count": null,
   "metadata": {
    "vscode": {
     "languageId": "plaintext"
    }
   },
   "outputs": [],
   "source": [
    "VAR1 = 'cat'\n",
    "VAR2 = 'dog'\n",
    "\n",
    "def print_out_my_favorite(favorite_pet):\n",
    "    if favorite_pet == VAR1:\n",
    "        print('My favorite pet is the cat')\n",
    "    if favorite_pet == VAR2:\n",
    "        print('My favorite pet is the dog')\n",
    "\n",
    "print_out_my_favorite(VAR1)\n",
    "print('VAR1:', VAR1 , 'VAR2:' , VAR2)"
   ]
  },
  {
   "cell_type": "markdown",
   "metadata": {},
   "source": [
    "A4. In the code block below, write three functions:\n",
    "i. One that adds 2 to a value\n",
    "ii. One that multiplies the value by a number specified as a parameter\n",
    "iii. One that adds two to a number then multiplies it by a value specified as a parameter (hint, this should use the previous two functions)\n",
    "\n",
    "Then create a program which uses those functions. It should:\n",
    "i. create a natural global MY_NUM and give it whatever value you want\n",
    "ii. prints MY_NUM\n",
    "iii. Calls the third function created above (add two multiply by five)\n",
    "iv. prints MY_NUM again\n",
    "\n",
    "\n",
    "Then test your function with three additional values following the format below:\n",
    "\n",
    "Example:\n",
    "start num: 1\n",
    "multiplier: 4\n",
    "ending num: 12"
   ]
  }
 ],
 "metadata": {
  "language_info": {
   "name": "python"
  }
 },
 "nbformat": 4,
 "nbformat_minor": 2
}
