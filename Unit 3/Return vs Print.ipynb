{
 "cells": [
  {
   "cell_type": "markdown",
   "metadata": {},
   "source": [
    "    Warmup:\n",
    "\n",
    "Before running the following code, answer the following questions:\n",
    "\n",
    "Wa. What are the parameters of mystery_function?\n",
    "\n",
    "...\n",
    "\n",
    "Wb. What are the arguments used when calling mystery_function?\n",
    "\n",
    "...\n",
    "\n",
    "Wc. What are the possible things that will be printed by the code?\n",
    "\n",
    "..."
   ]
  },
  {
   "cell_type": "code",
   "execution_count": null,
   "metadata": {
    "vscode": {
     "languageId": "plaintext"
    }
   },
   "outputs": [],
   "source": [
    "import random\n",
    "\n",
    "def mystery_function(x, y):\n",
    "    random_number = random.randint(0,1)\n",
    "\n",
    "    if random_number > 0:\n",
    "        z = x + y\n",
    "    else:\n",
    "        z = x * y\n",
    "    \n",
    "    return z\n",
    "\n",
    "print( mystery_function(1, 2) )"
   ]
  },
  {
   "cell_type": "markdown",
   "metadata": {},
   "source": [
    "    1. Return\n",
    "\n",
    "Often while programming, we will want a value to be given back to us with a function. \n",
    "\n",
    "Perhaps we calculated a useful value in the function, but then it only lives in the scope of the function. Returning it allows us to use the value in the scope where we called the function\n",
    "\n",
    "1a. Consider the following example. We create two functions, one that finds the area of a rectangle and the other that calculates the perimeter. \n",
    "\n",
    "The code is then trying to see if the rectangle has a larger area than perimeter. When running the code, you will get an error. Briefly describe why this error happens:\n",
    "\n",
    "..."
   ]
  },
  {
   "cell_type": "code",
   "execution_count": null,
   "metadata": {
    "vscode": {
     "languageId": "plaintext"
    }
   },
   "outputs": [],
   "source": [
    "def getArea(s1, s2):\n",
    "    print( s1 * s2 )\n",
    "\n",
    "def getPerimeter(s1, s2):\n",
    "    print( 2*s1 + 2*s2 )\n",
    "\n",
    "side1 = 4\n",
    "side2 = 5\n",
    "\n",
    "if getArea(side1, side2) > getPerimeter(side1, side2):\n",
    "    print('Area is larger!')\n",
    "else:\n",
    "    print('Perimeter is longer!')"
   ]
  },
  {
   "cell_type": "markdown",
   "metadata": {},
   "source": [
    "1b. Now, modify the following code so the program works as intended:"
   ]
  },
  {
   "cell_type": "code",
   "execution_count": null,
   "metadata": {
    "vscode": {
     "languageId": "plaintext"
    }
   },
   "outputs": [],
   "source": [
    "def getArea(s1, s2):\n",
    "    print( s1 * s2 )\n",
    "\n",
    "def getPerimeter(s1, s2):\n",
    "    print( 2*s1 + 2*s2 )\n",
    "\n",
    "side1 = 4\n",
    "side2 = 5\n",
    "\n",
    "if getArea(side1, side2) > getPerimeter(side1, side2):\n",
    "    print('Area is larger!')\n",
    "else:\n",
    "    print('Perimeter is longer!')"
   ]
  },
  {
   "cell_type": "markdown",
   "metadata": {},
   "source": [
    "    2. Print\n",
    "Sometimes, especially while debugging, we just want to see (or show the user) a value at a certain point in code.\n",
    "\n",
    "However, this will NOT give a result to the function. It just shows it.\n",
    "\n",
    "2a. Examine the following code. Why is print statement the proper call in this case?\n",
    "\n",
    "..."
   ]
  },
  {
   "cell_type": "code",
   "execution_count": null,
   "metadata": {
    "vscode": {
     "languageId": "plaintext"
    }
   },
   "outputs": [],
   "source": [
    "def showCelsiusTemperature(fTemp):\n",
    "    celsius = 5/9 * (fTemp - 32)\n",
    "    print(celsius)\n",
    "\n",
    "farenheit = int( input('What temperature in F is it today?') )\n",
    "showCelsiusTemperature(farenheit)"
   ]
  },
  {
   "cell_type": "markdown",
   "metadata": {},
   "source": [
    "2b. The following code gives you a list and has the header for a function which should print the items in a list one item at a time in the following format:\n",
    "0 - item0\n",
    "1 - item1\n",
    "2 - item2\n",
    "\n",
    "Complete the following code:"
   ]
  },
  {
   "cell_type": "code",
   "execution_count": null,
   "metadata": {
    "vscode": {
     "languageId": "plaintext"
    }
   },
   "outputs": [],
   "source": [
    "list = ['phone', 'shoes', 'wallet', 'keys']\n",
    "\n",
    "def prettyPrintList(l):\n",
    "    ...\n",
    "\n",
    "prettyPrintList(list)\n",
    "#Should print:\n",
    "#0 - phone\n",
    "#1 - shoes\n",
    "#2 - wallet\n",
    "#3 - keys"
   ]
  },
  {
   "cell_type": "markdown",
   "metadata": {},
   "source": [
    "2c. Look at the following two blocks of code. What is a similarity between the two?\n",
    "\n",
    "...\n",
    "\n",
    "What is a difference between the two?\n",
    "\n",
    "..."
   ]
  },
  {
   "cell_type": "code",
   "execution_count": null,
   "metadata": {
    "vscode": {
     "languageId": "plaintext"
    }
   },
   "outputs": [],
   "source": [
    "#Code 1: ---------------------------\n",
    "response = input('What temperature F is it today?')\n",
    "fahrenheit = int(response)\n",
    "celsius = 5/9 * (fahrenheit - 32)\n",
    "print(str(fahrenheit) + \"F is \" + str(celsius) + \"C\")\n",
    "\n",
    "#Code 2: ----------------------------\n",
    "def fahrenheit_to_celsius(f_temp):\n",
    "  c_temp = 5/9 * (f_temp - 32)\n",
    "  return \"{0}F is {1:.1f}C\".format(f_temp, c_temp)\n",
    "response = input(\"What temperature F is it today?\")\n",
    "fahrenheit_to_celsius(int(response))\n",
    "\n"
   ]
  },
  {
   "cell_type": "markdown",
   "metadata": {},
   "source": [
    "    ***Activity***\n",
    "The following code creates a list that we will use as cards. The values go from 2 (representing the card 2) and 14 (representing the high card, A)\n",
    "\n",
    "Finish the code by:\n",
    "a. Asking for the names of player 1 and player 2\n",
    "b. Shuffles the card_list (hint, there's a built in shuffle function in the random library)\n",
    "c. Gives each player half of the cards\n",
    "d. Has each player pick up the top card in their list. If their card is higher than the other players, they earn a point.\n",
    "e. Once both players are out of cards, print which player won and how many points both players had"
   ]
  },
  {
   "cell_type": "code",
   "execution_count": null,
   "metadata": {
    "vscode": {
     "languageId": "plaintext"
    }
   },
   "outputs": [],
   "source": [
    "import random\n",
    "\n",
    "card_list = []\n",
    "values = [2, 3, 4, 5, 6, 7, 8, 9, 10, 11, 12, 13, 14]\n",
    "\n",
    "for v in values:\n",
    "    for i in range(4):\n",
    "        card_list.append(v)\n",
    "#card_list now resembles a new deck of cards (2, 2, 2, 2, 3, 3, 3, 3, 4, 4, 4, 4...)\n",
    "\n",
    "..."
   ]
  }
 ],
 "metadata": {
  "language_info": {
   "name": "python"
  }
 },
 "nbformat": 4,
 "nbformat_minor": 2
}
