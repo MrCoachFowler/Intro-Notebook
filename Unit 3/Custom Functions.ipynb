{
 "cells": [
  {
   "cell_type": "markdown",
   "id": "a3f2d86b",
   "metadata": {},
   "source": [
    "    Warmup:"
   ]
  },
  {
   "cell_type": "markdown",
   "id": "fcc72112",
   "metadata": {},
   "source": [
    "Before running the following code, answer the following questions:\n",
    "\n",
    "1. What does my_function do?\n",
    "\n",
    "...\n",
    "\n",
    "2. What would running this block of code print?\n",
    "\n",
    "...\n",
    "\n",
    "3. We learned that, when calling functions, we may provide arguments. How could we define a function so it expects arguments?\n",
    "\n",
    "..."
   ]
  },
  {
   "cell_type": "code",
   "execution_count": null,
   "id": "bb2d3a65",
   "metadata": {},
   "outputs": [],
   "source": [
    "def my_function():\n",
    "    print('This is nacho function')"
   ]
  },
  {
   "cell_type": "markdown",
   "id": "2ec6132f",
   "metadata": {},
   "source": [
    "    1. Creating and Calling Functions\n",
    "When creating functions, they **can** have parameters (inputs) and outputs\n",
    "\n",
    "Syntax:\n",
    ">def function_name(param0, param1, param2, ...): <br>\n",
    "><-tab->*...*<br>\n",
    "><-tab->*...*<br>\n",
    "><-tab->return output_value\n",
    "\n",
    "See the example below:"
   ]
  },
  {
   "cell_type": "code",
   "execution_count": null,
   "id": "97a176a2",
   "metadata": {},
   "outputs": [],
   "source": [
    "def repeater( message ):\n",
    "    print(message)\n",
    "    print(message)\n",
    "\n",
    "repeater('Hello')"
   ]
  },
  {
   "cell_type": "markdown",
   "id": "dfa5ac4c",
   "metadata": {},
   "source": [
    "1a. What will this program print?\n",
    "\n",
    "...\n",
    "\n",
    "1b. Line 1 and 5 both mention the repeater function, how do these lines differ in their purpose?\n",
    "\n",
    "...\n",
    "\n"
   ]
  }
 ],
 "metadata": {
  "kernelspec": {
   "display_name": ".venv",
   "language": "python",
   "name": "python3"
  },
  "language_info": {
   "name": "python",
   "version": "3.12.3"
  }
 },
 "nbformat": 4,
 "nbformat_minor": 5
}
