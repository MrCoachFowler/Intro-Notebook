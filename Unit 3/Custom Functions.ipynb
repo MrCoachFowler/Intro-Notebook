{
 "cells": [
  {
   "cell_type": "markdown",
   "id": "2ec6132f",
   "metadata": {},
   "source": [
    "When creating functions, they **can** have parameters (inputs) and outputs\n",
    "    Syntax:\n",
    "    def function_name(param0, param1, param2, ...):\n",
    "        *...*\n",
    "        *...*\n",
    "        return output_value"
   ]
  }
 ],
 "metadata": {
  "language_info": {
   "name": "python"
  }
 },
 "nbformat": 4,
 "nbformat_minor": 5
}
