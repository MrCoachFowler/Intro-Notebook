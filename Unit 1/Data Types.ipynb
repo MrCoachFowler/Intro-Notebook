{
 "cells": [
  {
   "cell_type": "markdown",
   "id": "ad2cfebf",
   "metadata": {},
   "source": [
    "    1. \"Printing\" data to the console\n",
    "\n",
    "printing means it will write the value to the terminal\n",
    "\n",
    "We will start by just having it repeat what we say \n",
    "\n",
    "Printing is valuable in development and debugging because we can monitor a value over time"
   ]
  },
  {
   "cell_type": "code",
   "execution_count": 1,
   "id": "5637321d",
   "metadata": {},
   "outputs": [
    {
     "name": "stdout",
     "output_type": "stream",
     "text": [
      "Hawk Yeah\n"
     ]
    }
   ],
   "source": [
    "print(\"Hawk Yeah\")"
   ]
  },
  {
   "cell_type": "markdown",
   "id": "52603195",
   "metadata": {},
   "source": [
    "1a. What do you notice about how the above code is structured?\n",
    "\n",
    "..."
   ]
  },
  {
   "cell_type": "markdown",
   "id": "892a1301",
   "metadata": {},
   "source": [
    "1b.  In the code space below, write a line of code that prints Go Hawks to the console"
   ]
  },
  {
   "cell_type": "code",
   "execution_count": null,
   "id": "ab0d69f5",
   "metadata": {},
   "outputs": [],
   "source": [
    "..."
   ]
  },
  {
   "cell_type": "markdown",
   "id": "3f02ed92",
   "metadata": {},
   "source": [
    "    2. Assigning a value to a variable\n",
    "\n",
    "Variables are used constantly in programming\n",
    "\n",
    "Assigning a value to means, the next time the variable is named, that will be treated as that value\n",
    "\n",
    "Unlike math, variables can be strings (letters), numbers, decimal numbers, and more!"
   ]
  },
  {
   "cell_type": "markdown",
   "id": "5445cb49",
   "metadata": {},
   "source": [
    "2a. Below, add code needed to print each variable after they're assigned"
   ]
  },
  {
   "cell_type": "code",
   "execution_count": null,
   "id": "df91f482",
   "metadata": {},
   "outputs": [],
   "source": [
    "n = 17\n",
    "pi = 3.1415926535897932\n",
    "message = \"And now for something... completely different!\"\n",
    "\n",
    "..."
   ]
  },
  {
   "cell_type": "markdown",
   "id": "1153cfff",
   "metadata": {},
   "source": [
    "List each variable above:\n",
    "\n",
    "  1. ...\n",
    "  2. ...\n",
    "  3. ...\n",
    "\n",
    "List each assignment above:\n",
    "\n",
    "  1. ...\n",
    "  2. ...\n",
    "  3. ..."
   ]
  },
  {
   "cell_type": "markdown",
   "id": "b39cebfe",
   "metadata": {},
   "source": [
    "    3. Variable naming\n",
    "There are very few rules when making a variable name. But there are some!\n",
    "\n",
    "(1) Cannot start with a number\n",
    "\n",
    "(2) Cannot use special characters\n",
    "\n",
    "(3) Cannot use a reserved keyword\n",
    "\n",
    "Variable names also follow a specific naming standard\n",
    "\n",
    "(1) camelCaseExample\n",
    "\n",
    "(2) snake_case_example"
   ]
  },
  {
   "cell_type": "markdown",
   "id": "0b74f3cd",
   "metadata": {},
   "source": [
    "3a. Write an example of a variable name which fails each condition\n",
    "  1. ...\n",
    "  2. ...\n",
    "  3. ..."
   ]
  },
  {
   "cell_type": "markdown",
   "id": "d1033779",
   "metadata": {},
   "source": [
    "3b. Write these three examples in each case:\n",
    "  1. letter index tracker\n",
    "  2. current time\n",
    "  3. index\n",
    "camel case\n",
    "  1. ...\n",
    "  2. ...\n",
    "  3. ...\n",
    "snake case\n",
    "  1. ...\n",
    "  2. ...\n",
    "  3. ..."
   ]
  },
  {
   "cell_type": "markdown",
   "id": "c42ee283",
   "metadata": {},
   "source": [
    "    4. Data Types and Concatenation\n",
    "\n",
    "'+' signs commonly mean add\n",
    "\n",
    "However, variables can have different data types\n",
    "\n",
    "Depending on the data type, + means something different!"
   ]
  },
  {
   "cell_type": "markdown",
   "id": "57217bea",
   "metadata": {},
   "source": [
    "4a-1. What will be printed out as a result of running the line of code below?\n",
    "\n",
    "..."
   ]
  },
  {
   "cell_type": "code",
   "execution_count": null,
   "id": "c9aeeb77",
   "metadata": {},
   "outputs": [],
   "source": [
    "print('1' + '1')"
   ]
  },
  {
   "cell_type": "markdown",
   "id": "08fe739d",
   "metadata": {},
   "source": [
    "4a-2. What was the actual result? Why is this the result?\n",
    "\n",
    "..."
   ]
  },
  {
   "cell_type": "markdown",
   "id": "97d3c733",
   "metadata": {},
   "source": [
    "4b-1. What kind of error will result when running the line of code below? \n",
    "\n",
    "..."
   ]
  },
  {
   "cell_type": "code",
   "execution_count": null,
   "id": "27003bba",
   "metadata": {},
   "outputs": [],
   "source": [
    "print('We are number ' + 1)"
   ]
  },
  {
   "cell_type": "markdown",
   "id": "b645f517",
   "metadata": {},
   "source": [
    "4b-2. Below, rewrite the statement to cast the 1 to a string and verify it works"
   ]
  },
  {
   "cell_type": "code",
   "execution_count": null,
   "id": "a2d5dc4b",
   "metadata": {},
   "outputs": [],
   "source": [
    "print('We are number ' + 1)"
   ]
  },
  {
   "cell_type": "markdown",
   "id": "7c829c76",
   "metadata": {},
   "source": [
    "4b-3. Below, rewrite the statement using pythonic printing instead of casting to make the line print as expected"
   ]
  },
  {
   "cell_type": "code",
   "execution_count": null,
   "id": "8814aea7",
   "metadata": {},
   "outputs": [],
   "source": [
    "print('We are number ' + 1)"
   ]
  },
  {
   "cell_type": "markdown",
   "id": "ce0f8557",
   "metadata": {},
   "source": [
    "    ***Activities***"
   ]
  },
  {
   "cell_type": "markdown",
   "id": "738db34f",
   "metadata": {},
   "source": [
    "A1a. In the comment after each line, write what you think will be printed as a result of the line"
   ]
  },
  {
   "cell_type": "code",
   "execution_count": null,
   "id": "02171478",
   "metadata": {},
   "outputs": [],
   "source": [
    "print('1') #...\n",
    "print(1) #...\n",
    "print(1 + 2) #...\n",
    "print('1' + '2') #...\n",
    "print('Peanut Butter and ' + 'Jelly') #...\n",
    "print('This' , 'is' , 'a' , 'sentence') #..."
   ]
  },
  {
   "cell_type": "markdown",
   "id": "7ea60043",
   "metadata": {},
   "source": [
    "A1b. Were any different than expected? Why did it behave the way it did?"
   ]
  },
  {
   "cell_type": "markdown",
   "id": "754fadd8",
   "metadata": {},
   "source": [
    "A2. Using the animal variable, write two more print lines describing it. Then change it from dogs to cats"
   ]
  },
  {
   "cell_type": "code",
   "execution_count": null,
   "id": "3e0ba0f1",
   "metadata": {},
   "outputs": [],
   "source": [
    "animal = 'dogs'\n",
    "print(animal + ' are really cool.')\n",
    "\n",
    "..."
   ]
  },
  {
   "cell_type": "markdown",
   "id": "71f416fe",
   "metadata": {},
   "source": [
    "A3. Four fours - use four fours in an equation to get the answers 0, 1, 2, 3, and 4\n",
    "An example for zero has been given. Run your code to verify it works!"
   ]
  },
  {
   "cell_type": "code",
   "execution_count": null,
   "id": "e95c7fd1",
   "metadata": {},
   "outputs": [],
   "source": [
    "print('Zero: ', 44-44)\n",
    "print('One: ' )\n",
    "print('Two: ')\n",
    "print('Three: ')\n",
    "print('Four: ')"
   ]
  }
 ],
 "metadata": {
  "kernelspec": {
   "display_name": "Python 3",
   "language": "python",
   "name": "python3"
  },
  "language_info": {
   "codemirror_mode": {
    "name": "ipython",
    "version": 3
   },
   "file_extension": ".py",
   "mimetype": "text/x-python",
   "name": "python",
   "nbconvert_exporter": "python",
   "pygments_lexer": "ipython3",
   "version": "3.11.4"
  }
 },
 "nbformat": 4,
 "nbformat_minor": 5
}
