{
 "cells": [
  {
   "cell_type": "markdown",
   "id": "c08bedad",
   "metadata": {},
   "source": [
    "    1 Comments and the input() Function\n",
    "The input function allows the program to ask the user for information\n",
    "\n",
    "User input is paramount, your address, credit card, and buttons you press on a controller are all inputs"
   ]
  },
  {
   "cell_type": "markdown",
   "id": "580cd94c",
   "metadata": {},
   "source": [
    "1a. Before running this code, state what you think will print as a result\n",
    "\n",
    "..."
   ]
  },
  {
   "cell_type": "code",
   "execution_count": null,
   "id": "e28ac4fa",
   "metadata": {},
   "outputs": [],
   "source": [
    "a = input(\"What is your name?\")\n",
    "#a = 'all you cats and kittens'\n",
    "# meow\n",
    "print(\"Well hello there,\" + a)"
   ]
  },
  {
   "cell_type": "markdown",
   "id": "3909e49a",
   "metadata": {},
   "source": [
    "1b. What actually happened? What must the # character do?\n",
    "\n",
    "..."
   ]
  },
  {
   "cell_type": "markdown",
   "id": "4f1d1dde",
   "metadata": {},
   "source": [
    "1c. What would happen if you remove the # on line 2 of the above code?\n",
    "\n",
    "...\n",
    "\n",
    "Is that what happened? Why or why not?\n",
    "\n",
    "..."
   ]
  },
  {
   "cell_type": "markdown",
   "id": "2744ddb2",
   "metadata": {},
   "source": [
    "    2. The Data Type of input()\n",
    "The input function always returns a string"
   ]
  },
  {
   "cell_type": "markdown",
   "id": "9df60ef7",
   "metadata": {},
   "source": [
    "2a. What would happen as a result of running the following block of code?\n",
    "\n",
    "..."
   ]
  },
  {
   "cell_type": "code",
   "execution_count": null,
   "id": "15fde0b3",
   "metadata": {},
   "outputs": [],
   "source": [
    "length_of_square = input(\"What is the length of one side your square?\")\n",
    "area_of_square = length_of_square * length_of_square"
   ]
  },
  {
   "cell_type": "markdown",
   "id": "4079183b",
   "metadata": {},
   "source": [
    "2b. What was the actual result of running the program? What seems to be happening?\n",
    "\n",
    "..."
   ]
  },
  {
   "cell_type": "markdown",
   "id": "b66cdd62",
   "metadata": {},
   "source": [
    "2c. Rewrite the following block of code so that it runs without error and prints the area of the square\n",
    "\n",
    "..."
   ]
  },
  {
   "cell_type": "code",
   "execution_count": null,
   "id": "db5776fd",
   "metadata": {},
   "outputs": [],
   "source": [
    "length_of_square = input(\"What is the length of one side your square?\")\n",
    "area_of_square = length_of_square * length_of_square\n",
    "..."
   ]
  },
  {
   "cell_type": "markdown",
   "id": "6d224df8",
   "metadata": {},
   "source": [
    "    ***Activitiy***"
   ]
  },
  {
   "cell_type": "markdown",
   "id": "fdce07af",
   "metadata": {},
   "source": [
    "A1. In the following text block,\n",
    "    1. Write code that asks the user for three wishes\n",
    "    2. Prints 'You wished for ' followed by all three wishes in one line\n",
    "    "
   ]
  },
  {
   "cell_type": "code",
   "execution_count": null,
   "id": "fe6a93a3",
   "metadata": {},
   "outputs": [],
   "source": [
    "..."
   ]
  },
  {
   "cell_type": "markdown",
   "id": "df444325",
   "metadata": {},
   "source": [
    "A2. In the following text block,\n",
    "    1. Write code that asks the user for three wishes\n",
    "    2. Prints 'You wished for ' followed by all three wishes\n",
    "    3. However, the first wish made is the second listed, the second wish is listed third, and the third wish is listed first"
   ]
  },
  {
   "cell_type": "code",
   "execution_count": null,
   "id": "a0576ba9",
   "metadata": {},
   "outputs": [],
   "source": [
    "..."
   ]
  }
 ],
 "metadata": {
  "kernelspec": {
   "display_name": ".venv",
   "language": "python",
   "name": "python3"
  },
  "language_info": {
   "codemirror_mode": {
    "name": "ipython",
    "version": 3
   },
   "file_extension": ".py",
   "mimetype": "text/x-python",
   "name": "python",
   "nbconvert_exporter": "python",
   "pygments_lexer": "ipython3",
   "version": "3.12.3"
  }
 },
 "nbformat": 4,
 "nbformat_minor": 5
}
