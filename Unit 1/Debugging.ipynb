{
 "cells": [
  {
   "cell_type": "markdown",
   "id": "d7e41a6c",
   "metadata": {},
   "source": [
    "Warmup: Before running the code, type what you think will happen. Write what each line will do\n",
    "1.\n",
    "2.\n",
    "3.\n",
    "4."
   ]
  },
  {
   "cell_type": "code",
   "execution_count": null,
   "id": "1eebed46",
   "metadata": {
    "vscode": {
     "languageId": "plaintext"
    }
   },
   "outputs": [],
   "source": [
    "favoriteNumberStr = input('What is your favorite number?')\n",
    "birthMonthStr = input('What month were you born in? (1-12)')\n",
    "luckyNum = int(favoriteNumberStr) + int(birthMonthStr)\n",
    "print('Your lucky number is ' + luckyNum)"
   ]
  },
  {
   "cell_type": "markdown",
   "id": "236d5e61",
   "metadata": {},
   "source": [
    "Warmup: What actually happened when you ran it? Did this surprise you? Why or why not?\n",
    "\n",
    "..."
   ]
  },
  {
   "cell_type": "markdown",
   "id": "ac0b236e",
   "metadata": {},
   "source": [
    "1. Debugging\n",
    "    Debugging is the process of finding and fixing errors in code\n",
    "    \"If you're not breaking things, you're not trying hard enough!\"\n",
    "    Debugging is a natural and important part of programming\n",
    "\n",
    "    A big part of debugging is identifying the error. The error type reported by python is helpful!\n",
    "    Some common errors are:\n",
    "    1. Type Error\n",
    "    2. Syntax Error\n",
    "    3. Name Error\n",
    "    4. Idententation Error"
   ]
  },
  {
   "cell_type": "markdown",
   "id": "88480165",
   "metadata": {},
   "source": [
    "1a. Using the internet, find a defintion of each error that makes sense to you and write it in:\n",
    "1. Type Error: ...\n",
    "2. Syntax Error: ...\n",
    "3. Name Error: ...\n",
    "4. Idententation Error: ...\n"
   ]
  },
  {
   "cell_type": "markdown",
   "id": "74750e28",
   "metadata": {},
   "source": [
    "***Activity***"
   ]
  },
  {
   "cell_type": "markdown",
   "id": "7728e11d",
   "metadata": {},
   "source": [
    "A1. In the four cells below, write code that will generate the error specified. Once you're done, show me. Then try to debug a friends!"
   ]
  },
  {
   "cell_type": "markdown",
   "id": "424cd1a5",
   "metadata": {},
   "source": [
    "Type Error:"
   ]
  },
  {
   "cell_type": "code",
   "execution_count": null,
   "id": "5495e0b4",
   "metadata": {
    "vscode": {
     "languageId": "plaintext"
    }
   },
   "outputs": [],
   "source": [
    "..."
   ]
  },
  {
   "cell_type": "markdown",
   "id": "59f90673",
   "metadata": {},
   "source": [
    "Syntax Error:"
   ]
  },
  {
   "cell_type": "markdown",
   "id": "e4bffb7b",
   "metadata": {},
   "source": [
    "..."
   ]
  },
  {
   "cell_type": "code",
   "execution_count": null,
   "id": "75dc5fbc",
   "metadata": {
    "vscode": {
     "languageId": "plaintext"
    }
   },
   "outputs": [],
   "source": [
    "Name Error:"
   ]
  },
  {
   "cell_type": "code",
   "execution_count": null,
   "id": "788ff99c",
   "metadata": {
    "vscode": {
     "languageId": "plaintext"
    }
   },
   "outputs": [],
   "source": [
    "..."
   ]
  },
  {
   "cell_type": "markdown",
   "id": "53f0d68c",
   "metadata": {},
   "source": [
    "Indentation Error:"
   ]
  },
  {
   "cell_type": "code",
   "execution_count": null,
   "id": "78330fc2",
   "metadata": {
    "vscode": {
     "languageId": "plaintext"
    }
   },
   "outputs": [],
   "source": [
    "..."
   ]
  }
 ],
 "metadata": {
  "language_info": {
   "name": "python"
  }
 },
 "nbformat": 4,
 "nbformat_minor": 5
}
