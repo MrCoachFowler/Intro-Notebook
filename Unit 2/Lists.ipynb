{
 "cells": [
  {
   "cell_type": "markdown",
   "id": "68101cd7",
   "metadata": {},
   "source": [
    "    Warmup:\n",
    "Before running the following code, answer these questions:\n",
    "\n",
    "1. What do you think it will print? ...\n",
    "\n",
    "2. What type do you think a_list is? ...\n"
   ]
  },
  {
   "cell_type": "code",
   "execution_count": null,
   "id": "1c2f3d92",
   "metadata": {},
   "outputs": [],
   "source": [
    "a_list = ['a', 'e', 'i', 'o', 'u']\n",
    "print( len(a_list) )"
   ]
  },
  {
   "cell_type": "markdown",
   "id": "66a3f634",
   "metadata": {},
   "source": [
    "Before running the following code, answer these questions:\n",
    "\n",
    "1a. What does this code do? \n",
    "\n",
    "...\n",
    "\n",
    "1b. What will it print on the lines specified?\n",
    "\n",
    "2. ...\n",
    "\n",
    "3. ...\n",
    "\n",
    "4. ...\n",
    "\n",
    "5. ...\n",
    "\n",
    "6. ..."
   ]
  },
  {
   "cell_type": "code",
   "execution_count": null,
   "id": "10300d68",
   "metadata": {},
   "outputs": [],
   "source": [
    "a_list = ['a', 'e', 'i', 'o', 'u']\n",
    "print( a_list[0] )\n",
    "print( a_list[1] )\n",
    "print( a_list[2] )\n",
    "print( a_list[3] )\n",
    "print( a_list[4] )"
   ]
  },
  {
   "cell_type": "markdown",
   "id": "016b6340",
   "metadata": {},
   "source": [
    "    1. Lists\n",
    "Sometimes we will want to store more than one value in a variable\n",
    "\n",
    "One way to achieve this is by making a list\n",
    "\n",
    "A value in a list is called an element or item\n",
    "\n",
    "An index is the position of an item in a list (starting with zero)\n",
    "\n",
    "0-index is a way of describing a programming language with starts with zero as the first index\n",
    "\n",
    "\n",
    "The syntax for a list of n size is:\n",
    "\n",
    ">*variable_name* = [ *item0*, *item1*, ..., *itemn-1*]"
   ]
  },
  {
   "cell_type": "code",
   "execution_count": null,
   "id": "10d719e9",
   "metadata": {},
   "outputs": [],
   "source": [
    "#lists can any data type and can even include different data types\n",
    "str_list = ['Consider', 'the', 'following']\n",
    "int_list = [0, 1, 2]\n",
    "bool_list = [True, False, True]\n",
    "\n",
    "mixed_list = ['Consider', 1, True]"
   ]
  },
  {
   "cell_type": "markdown",
   "id": "716987c7",
   "metadata": {},
   "source": [
    "    2. Indexing into a list\n",
    "\n",
    "Now that we have a list of values, we may want to deal with them one at a time\n",
    "\n",
    "One way to do this is to go into the list at a certain index:\n",
    "\n",
    ">*value in first position* = some_list[0]\n",
    "\n",
    ">*value at the nth position* = some_list[n-1]\n",
    "\n",
    "example:\n",
    "\n",
    "the fourth item is at the third index\n",
    ">*fourth_item* = some_list[3]"
   ]
  },
  {
   "cell_type": "markdown",
   "id": "66aeb413",
   "metadata": {},
   "source": [
    "2a. Finish the code so that it will print only the first, third, and fifth item in the list"
   ]
  },
  {
   "cell_type": "code",
   "execution_count": null,
   "id": "40811181",
   "metadata": {},
   "outputs": [],
   "source": [
    "some_list = ['a', 'b', 'c', 'd', 'e']\n",
    "\n",
    "..."
   ]
  },
  {
   "cell_type": "markdown",
   "id": "55467ae9",
   "metadata": {},
   "source": [
    "2b. Before running the following code, try to find the bug!\n",
    "\n",
    "Why is the following code bugged?\n",
    "\n",
    "...\n",
    "\n",
    "What kind of exception (error) is this?\n",
    "\n",
    "..."
   ]
  },
  {
   "cell_type": "code",
   "execution_count": null,
   "id": "99eef809",
   "metadata": {},
   "outputs": [],
   "source": [
    "myFirstList = ['a', 'b', 'c']\n",
    "listLength = len(myFirstList)\n",
    "print(myFirstList[listLength])"
   ]
  },
  {
   "cell_type": "markdown",
   "id": "1ce5631a",
   "metadata": {},
   "source": [
    "    2 Extension: Negative Indexing\n",
    "\n",
    "What about situations where we want to access the last item in the list?\n",
    "\n",
    "Well, if we know a list has six items, we can do:\n",
    "\n",
    "some_list[5]\n",
    "\n",
    "But we will soon begin adding and removing from lists\n",
    "\n",
    "This means we won't always know the size of the list\n",
    "\n",
    "To get the last item, we must first find the length of the list:\n",
    ">list_length = len(var_sized_list)\n",
    ">last_item = var_sized_list[list_length - 1]\n",
    "\n",
    "Boo!\n",
    "\n",
    "Negative indexing allows us to easily grab the last item in the list:\n",
    "\n",
    ">last_item = var_sized_list[-1]\n",
    "\n",
    "Run the following code to see this is true:\n"
   ]
  },
  {
   "cell_type": "code",
   "execution_count": null,
   "id": "e48ebd16",
   "metadata": {},
   "outputs": [],
   "source": [
    "some_list = ['a', 'b', 'c', 'd', 'e']\n",
    "\n",
    "list_length = len(some_list)\n",
    "print( some_list[list_length - 1] )\n",
    "\n",
    "print( some_list[-1] )"
   ]
  },
  {
   "cell_type": "markdown",
   "id": "ba9c01f4",
   "metadata": {},
   "source": [
    "2Ea. Before running the following code, predict what it will print on the specified lines:\n",
    "\n",
    "3. ...\n",
    "\n",
    "4. ...\n",
    "\n",
    "5. ...\n",
    "\n",
    "6. ..."
   ]
  },
  {
   "cell_type": "code",
   "execution_count": null,
   "id": "a291cc1b",
   "metadata": {},
   "outputs": [],
   "source": [
    "some_list = ['a', 'b', 'c', 'd', 'e']\n",
    "\n",
    "print( some_list[2] )\n",
    "print( some_list[0] )\n",
    "print( some_list[-1] )\n",
    "print( some_list[-2] )\n"
   ]
  },
  {
   "cell_type": "markdown",
   "id": "318b060c",
   "metadata": {},
   "source": [
    "    3. Editing Lists\n",
    "\n",
    "Sometimes, you may want to edit an item that is already  in a list\n",
    "\n",
    "This works very similarly to assigning a variable except the variable is the item in the list:\n",
    "\n",
    ">some_list[item_index] = new_value\n",
    "\n",
    "ex:\n",
    ">some_list = ['a', 'b', 'c', 'd', 'e']\n",
    "\n",
    ">some_list[0] = 'f'\n",
    "\n",
    "#list is now ['f', 'b', 'c', 'd', 'e']"
   ]
  },
  {
   "cell_type": "markdown",
   "id": "17cf2a0a",
   "metadata": {},
   "source": [
    "3a. Before running the following code, predict what is printed from the following lines:\n",
    "\n",
    "2. ...\n",
    "\n",
    "4. ..."
   ]
  },
  {
   "cell_type": "code",
   "execution_count": null,
   "id": "06eb76ad",
   "metadata": {},
   "outputs": [],
   "source": [
    "people = [\"Brandon\", \"Sebastian\", \"Saber\", \"Cutlass\"]\n",
    "print(people)\n",
    "people[0] = \"Steve\"\n",
    "print(people)"
   ]
  },
  {
   "cell_type": "markdown",
   "id": "b3caf5bd",
   "metadata": {},
   "source": [
    "3b. Write a new line of code to fix the list"
   ]
  },
  {
   "cell_type": "code",
   "execution_count": null,
   "id": "7b2dfcbe",
   "metadata": {},
   "outputs": [],
   "source": [
    "a_list = ['lions', 'tigers', 'squirrels', 'oh', 'my!']\n",
    "\n",
    "...\n",
    "\n",
    "print(a_list) #should be ['lions', 'tigers', 'bears', 'oh', 'my!']"
   ]
  },
  {
   "cell_type": "markdown",
   "id": "afe80259",
   "metadata": {},
   "source": [
    "    4. Nested Lists\n",
    "What if you need to keep track of a lists of lists?\n",
    "\n",
    "What if you just watched the movie inception and now you can't stop thinking about listception?\n",
    "\n",
    "Nested lists, like russian nested dolls, allow programmers to use lists inside lists.\n",
    "\n",
    "A list can even have some items which are lists and some which are not! But be careful, that can make things confusing later on...\n",
    "\n",
    ">nested_list = [ ['1', '2', '3'], ['a', 'b', 'c'] ]\n",
    "\n",
    ">mixed_nested_list = [ '1', ['something', 'new'], 2, True]\n",
    "\n",
    "You can think of lists in lists as tables. For instance:\n",
    "ex_list = [['a', 'b', 'c',], [1, 2, 3], ['d', 'e', 'f']]\n",
    "can be thought of as:\n",
    "\n",
    "'a' | 'b' | 'c' <br>\n",
    "\\------------ <br>\n",
    " 1  |  2  |  3 <br>\n",
    "\\------------ <br>\n",
    "'d' | 'e' | 'f'\n",
    "\n",
    "To index into a nested list, you need to have two indices (row then column index):\n",
    "\n",
    ">item_value = some_list[outside_index][inside_index]\n",
    "\n",
    "ex:\n",
    "\n",
    "nested_list = [ ['1', '2', '3'], ['a', 'b', 'c'] ]\n",
    "\n",
    "a_item = nested_list[1][0]"
   ]
  },
  {
   "cell_type": "markdown",
   "id": "85ddad7a",
   "metadata": {},
   "source": [
    "4a. Referring to the code below, what is the length of a_list?\n",
    "\n",
    "...\n",
    "\n",
    "4b. How many items does a nested list count for in the parent list?\n",
    "\n",
    "..."
   ]
  },
  {
   "cell_type": "code",
   "execution_count": null,
   "id": "353222ca",
   "metadata": {},
   "outputs": [],
   "source": [
    "a_list = ['a', 'b', 'c', ['d', 'e']]\n",
    "print(len(a_list))\n"
   ]
  },
  {
   "cell_type": "markdown",
   "id": "4034c24d",
   "metadata": {},
   "source": [
    "4b. Referring to the code below, what will print?\n",
    "\n",
    "...\n",
    "\n",
    "Modify the code below so it will print 'e' on the last line"
   ]
  },
  {
   "cell_type": "code",
   "execution_count": null,
   "id": "823993e3",
   "metadata": {},
   "outputs": [],
   "source": [
    "a_list = ['a', 'b', 'c', ['d', 'e']]\n",
    "b_list = a_list[3] \n",
    "print(b_list)\n",
    "..."
   ]
  },
  {
   "cell_type": "markdown",
   "id": "4723647f",
   "metadata": {},
   "source": [
    "4c. Using the code below, predict what will print from the following line numbers:\n",
    "\n",
    "-3. ...\n",
    "\n",
    "-7. ...\n",
    "\n",
    "-9. ..."
   ]
  },
  {
   "cell_type": "code",
   "execution_count": null,
   "id": "7c343adf",
   "metadata": {},
   "outputs": [],
   "source": [
    "a_list = ['a', 'b', 'c', ['d', 'e']]\n",
    "\n",
    "print( a_list[-1] )\n",
    "\n",
    "a_list[0] = 1\n",
    "a_list[2] = 3\n",
    "print(a_list)\n",
    "\n",
    "print(a_list[3][0])"
   ]
  },
  {
   "cell_type": "markdown",
   "id": "3a35d57e",
   "metadata": {},
   "source": [
    "4d. Finish the code below so that it gets 'e' from the list two different ways"
   ]
  },
  {
   "cell_type": "code",
   "execution_count": null,
   "id": "b9c40dc2",
   "metadata": {},
   "outputs": [],
   "source": [
    "a_list = ['a', 'b', 'c', ['d', 'e']]\n",
    "\n",
    "e_value1 = ...\n",
    "e_value2 = ...\n",
    "\n",
    "print(e_value1)\n",
    "print(e_value2)"
   ]
  },
  {
   "cell_type": "markdown",
   "id": "cefc7668",
   "metadata": {},
   "source": [
    "    ***Activities***"
   ]
  },
  {
   "cell_type": "markdown",
   "id": "b05078a8",
   "metadata": {},
   "source": [
    "A1."
   ]
  },
  {
   "cell_type": "code",
   "execution_count": null,
   "id": "f74ed6d8",
   "metadata": {},
   "outputs": [],
   "source": [
    "a = ['a', 'b', 'c', 'd', 'e']\n",
    "print(a[0])\n",
    "print([3])\n",
    "print(a[len(a)-3])\n",
    "print(a[len(a)-6])\n",
    "\n",
    "a[3] = 'haha' \n",
    "print(a)"
   ]
  },
  {
   "cell_type": "markdown",
   "id": "76501e03",
   "metadata": {},
   "source": [
    "A1a. What will each line from the above code print?\n",
    "\n",
    "-2. ...\n",
    "\n",
    "-3. ...\n",
    "\n",
    "-4. ...\n",
    "\n",
    "-5. ...\n",
    "\n",
    "-8. ..."
   ]
  },
  {
   "cell_type": "markdown",
   "id": "87aa0d50",
   "metadata": {},
   "source": [
    "A2. Gameshow program!\n",
    "\n",
    "Below, write code to:\n",
    "\n",
    "1. Create a list of ten prizes in a list\n",
    "2. Allow a user to pick a number between 1-10\n",
    "3. Tell the user what prize they picked\n",
    "\n",
    "Good questions:\n",
    "\n",
    "If the user chooses 1, which item index is that?\n",
    "What do I do if I forgot how to do a conditional statement?\n",
    "\n",
    "Extra Challenge:\n",
    "\n",
    "If the user chooses a number outside the range, tell them to pick a number in the range"
   ]
  },
  {
   "cell_type": "code",
   "execution_count": null,
   "id": "47a87c95",
   "metadata": {},
   "outputs": [],
   "source": [
    "..."
   ]
  }
 ],
 "metadata": {
  "kernelspec": {
   "display_name": ".venv",
   "language": "python",
   "name": "python3"
  },
  "language_info": {
   "codemirror_mode": {
    "name": "ipython",
    "version": 3
   },
   "file_extension": ".py",
   "mimetype": "text/x-python",
   "name": "python",
   "nbconvert_exporter": "python",
   "pygments_lexer": "ipython3",
   "version": "3.12.3"
  }
 },
 "nbformat": 4,
 "nbformat_minor": 5
}
