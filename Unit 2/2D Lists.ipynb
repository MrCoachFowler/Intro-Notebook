{
 "cells": [
  {
   "cell_type": "markdown",
   "metadata": {},
   "source": [
    "    Warmup 1:\n",
    "Before running the following code, predict what it will print from each line:\n",
    "\n",
    "3 ...\n",
    "\n",
    "4 ...\n",
    "\n",
    "5 ..."
   ]
  },
  {
   "cell_type": "code",
   "execution_count": null,
   "metadata": {},
   "outputs": [],
   "source": [
    "a_list = [1, 2, 3, 4, 5, 6]\n",
    "\n",
    "print(a_list[0])\n",
    "print(a_list[1:3])\n",
    "print(a_list[-1])"
   ]
  },
  {
   "cell_type": "markdown",
   "metadata": {},
   "source": [
    "    Warmup 2:\n",
    "Before running the following code, predict what it will print from each line:\n",
    "\n",
    "3 ...\n",
    "\n",
    "4 ...\n",
    "\n",
    "5 ..."
   ]
  },
  {
   "cell_type": "code",
   "execution_count": null,
   "metadata": {},
   "outputs": [],
   "source": [
    "a_list = [1, 2, 3, ['a', 'b']]\n",
    "\n",
    "print(a_list[3])\n",
    "print(a_list[3][0])\n",
    "print(a_list[3][-1])"
   ]
  },
  {
   "cell_type": "markdown",
   "metadata": {},
   "source": [
    "    2D Lists as Data Tables\n",
    "\n",
    "Data tables are everywhere in programming. A 2D list can be thought of as a tables or coordinate systems\n",
    "\n",
    "2D lists are usually easiest to read in the following syntax:\n",
    "\n",
    "new_list = [\n",
    "\n",
    "  [ 0 0  , 0 1 , 0 2  , 0 3  , 0 ...  ],\n",
    "\n",
    "  [ 1 0  , 1 1 , 1 2  , 1 3  , 1 ...  ],\n",
    "\n",
    "  [ 2 0  , 2 1 , 2 2  , 2 3  , 2 ...  ],\n",
    "\n",
    "  [ 3 0  , 3 1 , 3 2  , 3 3  , 3 ...  ],\n",
    "  \n",
    "  [... 0, ... 1, ... 2, ... 3, ... ...]\n",
    "\n",
    "]\n",
    "\n",
    "Often, pictures or digital images are stored as 2D arrays. A 24x24 pixel image is a 2d list with 24 rows and 24 columns! Each element is a color value\n"
   ]
  },
  {
   "cell_type": "markdown",
   "metadata": {},
   "source": [
    "    Moving Around a 2D Map Example\n",
    "\n",
    "The following code is an example of how to create a 2d grid and record a players position\n",
    "\n",
    "When the user inserts a command, the player's position is modified, then their location on the map is updated"
   ]
  },
  {
   "cell_type": "code",
   "execution_count": null,
   "metadata": {},
   "outputs": [],
   "source": [
    "from IPython.display import clear_output\n",
    "\n",
    "#pay no attention to this, will explain later..\n",
    "def print2DList(arr):\n",
    "    for row in arr:\n",
    "        print(row)\n",
    "\n",
    "playerX = 2\n",
    "playerY = 2\n",
    "\n",
    "a_2d_list = [\n",
    "    [' ', ' ', ' ', ' ', ' '],\n",
    "    [' ', ' ', ' ', ' ', ' '],\n",
    "    [' ', ' ', ' ', ' ', ' '],\n",
    "    [' ', ' ', ' ', ' ', ' '],\n",
    "    [' ', ' ', ' ', ' ', ' ']\n",
    "]\n",
    "\n",
    "a_2d_list[playerY][playerX] = 'X' \n",
    "\n",
    "print2DList(a_2d_list)\n",
    "\n",
    "while True:\n",
    "    a_2d_list[playerY][playerX] = ' '\n",
    "\n",
    "    move = input('Use l, r, u, d to move left, right, up, and down')\n",
    "    if move == 'l':\n",
    "        playerX -= 1\n",
    "    elif move == 'r':\n",
    "        playerX += 1\n",
    "    elif move == 'u':\n",
    "        playerY -= 1\n",
    "    elif move == 'd':\n",
    "        playerY += 1\n",
    "    else:\n",
    "        break #quits the loop and the game\n",
    "\n",
    "    a_2d_list[playerY][playerX] = 'X' \n",
    "    clear_output()\n",
    "\n",
    "    print2DList(a_2d_list)"
   ]
  },
  {
   "cell_type": "markdown",
   "metadata": {},
   "source": [
    "Questions on the above:\n",
    "\n",
    "1. Why did the programmer choose to write the 2d list on multiple lines rather than one? ...\n",
    "\n",
    "2. Why is playerY the first index given to a_2d_list and playerX is the second? ...\n",
    "\n",
    "3. Why does moving 'up' from the user subtract playerY? ..."
   ]
  },
  {
   "cell_type": "markdown",
   "metadata": {},
   "source": [
    "    Iterating through a 2D Array with While Loops\n",
    "\n",
    "Now that we have a large set of data, it might be nice to quickly go through each value...\n",
    "\n",
    "To do this, we will be clever with an index variable and a while loop\n",
    "\n",
    "Write what you think the following code will do:\n",
    "\n",
    "..."
   ]
  },
  {
   "cell_type": "code",
   "execution_count": null,
   "metadata": {},
   "outputs": [],
   "source": [
    "jackson_five = [\n",
    "    [1, 2, 3],\n",
    "    ['do', 're', 'mi'],\n",
    "    ['a', 'b', 'c']\n",
    "]\n",
    "\n",
    "rowI = 0\n",
    "rowCount = len(jackson_five)\n",
    "\n",
    "while rowI < rowCount:\n",
    "    row = jackson_five[rowI]\n",
    "    rowLength = len(row)\n",
    "    colI = 0\n",
    "    while colI < rowLength:\n",
    "        print(jackson_five[rowI][colI])\n",
    "        colI += 1\n",
    "    rowI += 1"
   ]
  },
  {
   "cell_type": "markdown",
   "metadata": {},
   "source": [
    "Iterating Through 2D Lists Questions\n",
    "\n",
    "1. Why is the rowIndex created outside the loop but the colIndex is created inside the first for loop? ...\n",
    "\n",
    "2. One while loop is indented under the previous, why is that? ...\n",
    "\n",
    "3. How does the code know how to go through each item without an out of bounds error? ..."
   ]
  },
  {
   "cell_type": "markdown",
   "metadata": {},
   "source": [
    "    Activities\n",
    "\n",
    "A1. Add four print statements indexing into items in the 2d array so it prints:\n",
    "\n",
    "3\n",
    "\n",
    "2\n",
    "\n",
    "1\n",
    "\n",
    "Blastoff!"
   ]
  },
  {
   "cell_type": "code",
   "execution_count": null,
   "metadata": {},
   "outputs": [],
   "source": [
    "some_list = [\n",
    "    ['a', 'b', 1  , 'c'],\n",
    "    ['d',  2 , 'e', 'f'],\n",
    "    ['g', 'h',  3 , 'h'],\n",
    "    ['i', 'j', 'k', 'Blastoff!']\n",
    "]\n",
    "\n",
    "..."
   ]
  },
  {
   "cell_type": "markdown",
   "metadata": {},
   "source": [
    "A2. Use a while loop to print each row of the 2D array one row at a time. Should print exactly like this:\n",
    "\n",
    "['a', 'b', 1  , 'c']\n",
    "\n",
    "['d',  2 , 'e', 'f']\n",
    "\n",
    "['g', 'h',  3 , 'h']\n",
    "\n",
    "['i', 'j', 'k', 'Blastoff!']\n"
   ]
  },
  {
   "cell_type": "code",
   "execution_count": null,
   "metadata": {},
   "outputs": [],
   "source": [
    "some_list = [\n",
    "    ['a', 'b', 1  , 'c'],\n",
    "    ['d',  2 , 'e', 'f'],\n",
    "    ['g', 'h',  3 , 'h'],\n",
    "    ['i', 'j', 'k', 'Blastoff!']\n",
    "]\n",
    "\n",
    "..."
   ]
  },
  {
   "cell_type": "markdown",
   "metadata": {},
   "source": [
    "A3. Use nested while loops (loops inside loops) to iterate through each element in the 2d list. Multiply each value by 2 and replace the value in the arr. Then print the 2d list again after it's doubled"
   ]
  },
  {
   "cell_type": "code",
   "execution_count": null,
   "metadata": {},
   "outputs": [],
   "source": [
    "nums = [\n",
    "    [0, 1, 2, 3, 4],\n",
    "    [5, 6, 7, 8, 9],\n",
    "    [-4, -3, -2, -1, 0]\n",
    "]\n",
    "\n",
    "...\n",
    "\n",
    "print(nums)"
   ]
  }
 ],
 "metadata": {
  "kernelspec": {
   "display_name": "Python 3",
   "language": "python",
   "name": "python3"
  },
  "language_info": {
   "codemirror_mode": {
    "name": "ipython",
    "version": 3
   },
   "file_extension": ".py",
   "mimetype": "text/x-python",
   "name": "python",
   "nbconvert_exporter": "python",
   "pygments_lexer": "ipython3",
   "version": "3.11.4"
  }
 },
 "nbformat": 4,
 "nbformat_minor": 2
}
