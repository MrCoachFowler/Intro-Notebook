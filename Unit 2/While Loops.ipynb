{
 "cells": [
  {
   "cell_type": "markdown",
   "id": "9016810b",
   "metadata": {},
   "source": [
    "Warmup:\n",
    "    1. A nefarious student wants to design a program that prints 'skibidi' 10 times. How could they do that?\n",
    "        ...\n",
    "    2. What if they wanted it to print 100, 1000 or even more times? Does this change how you want to approach the problem?\n",
    "        ...\n",
    "\n",
    "    3. Run the following code then answer the following questions:\n",
    "        a. What happens when you run the code?\n",
    "            ...\n",
    "        b. How might we change the behavior of this code?\n",
    "            ...\n",
    "        c. How might we use this power to print something exactly 1000 times?\n",
    "            ..."
   ]
  },
  {
   "cell_type": "code",
   "execution_count": null,
   "id": "072f9a86",
   "metadata": {},
   "outputs": [],
   "source": [
    "while True:\n",
    "    print('I should be studying')"
   ]
  },
  {
   "cell_type": "markdown",
   "id": "105b28e0",
   "metadata": {},
   "source": [
    "    4. Run the following code then answer the questions:\n",
    "        a. What does this program do?\n",
    "            ...\n",
    "        b. If the song was longer, how could we change it to print more measures?"
   ]
  },
  {
   "cell_type": "code",
   "execution_count": null,
   "id": "a7140f93",
   "metadata": {},
   "outputs": [],
   "source": [
    "songMeasures = 5\n",
    "measureCounter = 0\n",
    "while measureCounter < songMeasures:\n",
    "    print('1, 2, 3, 4...')\n",
    "    measureCounter += 1"
   ]
  },
  {
   "cell_type": "markdown",
   "id": "5f324716",
   "metadata": {},
   "source": [
    "    5. Before running the following code:\n",
    "        a. Predict what will happen:\n",
    "            ...\n",
    "        b. Describe the bug and why it leads to that behavior\n",
    "            ..."
   ]
  },
  {
   "cell_type": "code",
   "execution_count": null,
   "id": "56b4485e",
   "metadata": {},
   "outputs": [],
   "source": [
    "songMeasures = 5\n",
    "measureCounter = 0\n",
    "while measureCounter < songMeasures:\n",
    "    print('1, 2, 3, 4...')"
   ]
  },
  {
   "cell_type": "markdown",
   "id": "135b6ac6",
   "metadata": {},
   "source": [
    "    6. Run the following code then answer these questions:\n",
    "        1. Describe how the code works:\n",
    "            ...\n",
    "        2. List an example where this kind of logic structure might be helpful:\n",
    "            ..."
   ]
  },
  {
   "cell_type": "code",
   "execution_count": null,
   "id": "3ee6ccda",
   "metadata": {},
   "outputs": [],
   "source": [
    "more_spirit = 'y'\n",
    "while more_spirit == 'y':\n",
    "    print(\"Hawk yeah!\")\n",
    "    more_spirit = input('Do you want more school spirit? y/n')"
   ]
  },
  {
   "cell_type": "markdown",
   "id": "8f6b85b6",
   "metadata": {},
   "source": [
    "1. While loops\n",
    "    This is our first introduction to 'iteration'\n",
    "    while loops act like if statements except they allow us to rerun blocks of code indented under it\n",
    "\n",
    "    The syntax is as follows:\n",
    "    while *condition*:\n",
    "        *stuff to do*\n",
    "        ..."
   ]
  },
  {
   "cell_type": "markdown",
   "id": "db371887",
   "metadata": {},
   "source": [
    "1a. What will print in the code below:\n",
    "    ...\n",
    "    ...\n",
    "    ...\n",
    "    ...\n",
    "    ...\n"
   ]
  },
  {
   "cell_type": "code",
   "execution_count": null,
   "id": "73dc34b1",
   "metadata": {},
   "outputs": [],
   "source": [
    "ladder_counter = 0\n",
    "while ladder_counter <= 3:\n",
    "    ladder_counter += 1\n",
    "print(ladder_counter)\n",
    "\n",
    "while ladder_counter > 0:\n",
    "    print(ladder_counter)\n",
    "    ladder_counter -= 1"
   ]
  },
  {
   "cell_type": "markdown",
   "id": "7a1ca1be",
   "metadata": {},
   "source": [
    "1b. Create a while loop to print the specified message the specified number of times in the code block below"
   ]
  },
  {
   "cell_type": "code",
   "execution_count": null,
   "id": "4b9b09a0",
   "metadata": {},
   "outputs": [],
   "source": [
    "message = \"I will not waste chalk\" \n",
    "num_of_times = 1000\n",
    "\n",
    "..."
   ]
  }
 ],
 "metadata": {
  "kernelspec": {
   "display_name": ".venv",
   "language": "python",
   "name": "python3"
  },
  "language_info": {
   "codemirror_mode": {
    "name": "ipython",
    "version": 3
   },
   "file_extension": ".py",
   "mimetype": "text/x-python",
   "name": "python",
   "nbconvert_exporter": "python",
   "pygments_lexer": "ipython3",
   "version": "3.12.3"
  }
 },
 "nbformat": 4,
 "nbformat_minor": 5
}
