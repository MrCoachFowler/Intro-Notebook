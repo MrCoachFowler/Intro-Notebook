{
 "cells": [
  {
   "cell_type": "markdown",
   "id": "820fbbb2",
   "metadata": {},
   "source": [
    "Warmup:"
   ]
  },
  {
   "cell_type": "code",
   "execution_count": null,
   "id": "2940257f",
   "metadata": {},
   "outputs": [],
   "source": [
    "#Run the following then answer the questions:\n",
    "a_list = [123, 'First Item', 456, 'Second Item']\n",
    "b_list = a[0:2] \n",
    "print(a_list)\n",
    "print(b_list)"
   ]
  },
  {
   "cell_type": "markdown",
   "id": "29bcc50d",
   "metadata": {},
   "source": [
    "How does line 3 affect a_list?\n",
    "    ...\n",
    "What is in b_list? Why?\n",
    "    ..."
   ]
  },
  {
   "cell_type": "markdown",
   "id": "03f63867",
   "metadata": {},
   "source": [
    "#Run the following then answer the questions:\n",
    "a_list = [123, 'First Item', 456]\n",
    "a_list.remove('First Item')\n",
    "print(a_list)"
   ]
  },
  {
   "cell_type": "markdown",
   "id": "d1aef1fa",
   "metadata": {},
   "source": [
    "What does remove do?\n",
    "    ...\n",
    "What is the length of a_list on line 2? ...\n",
    "What is the length of a_list on line 4? ..."
   ]
  },
  {
   "cell_type": "code",
   "execution_count": null,
   "id": "24941bd2",
   "metadata": {},
   "outputs": [],
   "source": [
    "#Run the following then answer the questions:\n",
    "a_list = [123, 'First Item', 456, 'Second Item']\n",
    "b_list = a_list + ['Third Item']\n",
    "print(a_list)\n",
    "print(b_list)"
   ]
  },
  {
   "cell_type": "markdown",
   "id": "127c3350",
   "metadata": {},
   "source": [
    "What happens to a_list on line 3? ...\n",
    "How is b_list made? What is in it? ..."
   ]
  },
  {
   "cell_type": "code",
   "execution_count": null,
   "id": "d0cd4f02",
   "metadata": {},
   "outputs": [],
   "source": [
    "#Run the following then answer the questions:\n",
    "a_list = ['First Item']\n",
    "print(a_list)\n",
    "a_list.append('Second Item')\n",
    "print(a_list)"
   ]
  },
  {
   "cell_type": "markdown",
   "id": "d6d63e44",
   "metadata": {},
   "source": [
    "What does append() do?\n",
    "    ...\n",
    "What is the length of a_list on line 3? ...\n",
    "What is the length of a_list on line 5? ..."
   ]
  },
  {
   "cell_type": "markdown",
   "id": "37a314ed",
   "metadata": {},
   "source": [
    "1. Slicing (Range Indexing)\n",
    "    Sometimes, we might want to take a group of items from a list. To do this, we can access a range of indices\n",
    "\n",
    "    slice_of_list = some_list[start_index : end_index + 1]\n",
    "\n",
    "    NOTICE: The first index will be included, the last index will not. (starting from the first, going up to but not including, the second)\n",
    "\n",
    "    some_list[0:3] #gets the first three items in a list (0, 1, 2)\n",
    "    some_list[0:2] #gets the first two items (0, 1)\n",
    "    some_list[1:3] #gets the second and third item"
   ]
  },
  {
   "cell_type": "markdown",
   "id": "d3decab9",
   "metadata": {},
   "source": [
    "1a. Predict what will be printed by the following code\n",
    "    ..."
   ]
  },
  {
   "cell_type": "code",
   "execution_count": null,
   "id": "5436a7d3",
   "metadata": {},
   "outputs": [],
   "source": [
    "a_list = [123, 'First Item', 456, 'Second Item']\n",
    "b_list = a_list[1:2] \n",
    "print(b_list)\n"
   ]
  },
  {
   "cell_type": "markdown",
   "id": "7398ac73",
   "metadata": {},
   "source": [
    "2. Removing items from a list\n",
    "\n",
    "    We have TWO options:\n",
    "    remove() and pop()\n",
    "\n",
    "    When you know the value of the item you want to remove, use remove()\n",
    "    When you know the index of the item you want to remove, use pop()\n",
    "\n",
    "    Pop also returns the item (gives it back)"
   ]
  },
  {
   "cell_type": "code",
   "execution_count": null,
   "id": "4bff1a86",
   "metadata": {},
   "outputs": [],
   "source": [
    "#let's look at two different examples\n",
    "a_list = ['a', 'b', 'c', 'd', 'e']\n",
    "\n",
    "remove_example = a_list.remove('c')\n",
    "print(a_list)\n",
    "print(remove_example)\n",
    "\n",
    "pop_example = a_list.pop(2)\n",
    "print(a_list)\n",
    "print(pop_example)\n",
    "\n",
    "new_list = ['a', 'b', 'c']\n",
    "print(new_list.pop())"
   ]
  },
  {
   "cell_type": "markdown",
   "id": "191470d8",
   "metadata": {},
   "source": [
    "2a. Run the code above then answer the following questions:\n",
    "    What happens to a_list on line 4? (the remove)\n",
    "        ...\n",
    "    What was returned to remove_example as a result?\n",
    "        ...\n",
    "\n",
    "    What happens to a_list on line 8? (the pop)\n",
    "        ...\n",
    "    What was returned to pop_example as a result?\n",
    "        ...\n",
    "    Looking at line 13, what value is 'popped' when no index is provided?\n",
    "        ..."
   ]
  },
  {
   "cell_type": "markdown",
   "id": "51a7c887",
   "metadata": {},
   "source": [
    "2b. Assume you are trying to make a card game. \n",
    "    When someone picks up the top card from the deck, is it best to use pop or remove? Why?\n",
    "        ...\n",
    "\n",
    "    When someone takes the jokers out of the deck at the beginning of the game, would it be best to use pop or remove? Why?\n",
    "        ..."
   ]
  },
  {
   "cell_type": "markdown",
   "id": "155e93fd",
   "metadata": {},
   "source": [
    "3. Appending\n",
    "    Sometimes it might be helpful to add a new item to a list\n",
    "\n",
    "    Adding a single item to a list:\n",
    "        The append() function is a method - something we discuss more later\n",
    "        This means it is an operation that a list can do!\n",
    "        \n",
    "        The syntax is as follows:\n",
    "        list_name.append( item_to_add )\n",
    "\n",
    "\n",
    "\n",
    "    Adding multiple items to a list:\n",
    "        This can be done using the '+' operator between lists or using the extend() method\n",
    "\n",
    "        '+' operator:\n",
    "        new_list = old_list + [item0, item1, ...]\n",
    "\n",
    "        extend() method:\n",
    "        list_to_add_to.extend( list_to_add )\n",
    "\n"
   ]
  },
  {
   "cell_type": "markdown",
   "id": "8a5766ac",
   "metadata": {},
   "source": [
    "3a. Before running the following code, predict what it will print\n",
    "    ..."
   ]
  },
  {
   "cell_type": "code",
   "execution_count": null,
   "id": "b6393807",
   "metadata": {},
   "outputs": [],
   "source": [
    "chaos_list = ['a', 'b', 'c', 'd']\n",
    "chaos_list.remove('c')\n",
    "chaos_list = chaos_list + [1, 2, 3]\n",
    "print( chaos_list )\n"
   ]
  },
  {
   "cell_type": "markdown",
   "id": "bfe9248d",
   "metadata": {},
   "source": [
    "3b. Someone is trying to keep track of their friends favorite foods. They often ask many of their friends at once and they all like different foods. \n",
    "\n",
    "    What option of adding items to a list would you suggest and why?\n",
    "    ..."
   ]
  },
  {
   "cell_type": "markdown",
   "id": "e04d6f6f",
   "metadata": {},
   "source": [
    "3c. Challenge:\n",
    "    Below, fix the two lists\n",
    "\n",
    "    The first list, four_items, should print:\n",
    "    ['a', 'b', 'c', [1, 2, 3]]\n",
    "\n",
    "    The second list, six_items, should print:\n",
    "    ['a', 'b', 'c', 1, 2, 3]\n",
    "\n",
    "    Finish the following code to make this true"
   ]
  },
  {
   "cell_type": "code",
   "execution_count": null,
   "id": "dda5f530",
   "metadata": {},
   "outputs": [],
   "source": [
    "four_items = ['a', 'b', 'c']\n",
    "...\n",
    "print(four_items)\n",
    "\n",
    "six_items = ['a', 'b', 'c']\n",
    "...\n",
    "print(six_items)"
   ]
  },
  {
   "cell_type": "markdown",
   "id": "3c860212",
   "metadata": {},
   "source": [
    "4. The 'in' operator for conditionals with lists\n",
    "    When creating if statements, it might be helpful to know if a value is in a list of expected values\n",
    "    ex:\n",
    "    'a' in ['a', 'b', 'c']  #returns true\n",
    "    1 in ['a', 'b', 'c']    #returns false"
   ]
  },
  {
   "cell_type": "markdown",
   "id": "c3ce25b0",
   "metadata": {},
   "source": [
    "4a. Before running the following, predict what will print:\n",
    "    ..."
   ]
  },
  {
   "cell_type": "code",
   "execution_count": null,
   "id": "6a9b1841",
   "metadata": {},
   "outputs": [],
   "source": [
    "the_best_things = ['cats', 'guitars', 'computers']\n",
    "\n",
    "mystery_thing = 'broccoli' \n",
    "\n",
    "if mystery_thing in the_best_things:\n",
    "    print(\"Oh yeah, that's the best!\")\n",
    "else:\n",
    "    print(\"Nah, ain't it\")"
   ]
  },
  {
   "cell_type": "markdown",
   "id": "fe842ba9",
   "metadata": {},
   "source": [
    "4b. Now fix the below code so it prints the other result. Before you fix it, write what you will need to do to accomplish this task:\n",
    "    ..."
   ]
  },
  {
   "cell_type": "code",
   "execution_count": null,
   "id": "20e71803",
   "metadata": {},
   "outputs": [],
   "source": [
    "the_best_things = ['cats', 'guitars', 'computers']\n",
    "\n",
    "mystery_thing = 'broccoli' \n",
    "\n",
    "if mystery_thing in the_best_things:\n",
    "    print(\"Oh yeah, that's the best!\")\n",
    "else:\n",
    "    print(\"Nah, ain't it\")"
   ]
  },
  {
   "cell_type": "markdown",
   "id": "6cf56fb2",
   "metadata": {},
   "source": [
    "***Activities***"
   ]
  },
  {
   "cell_type": "markdown",
   "id": "5e78dd29",
   "metadata": {},
   "source": [
    "A1a. Before running the block of code below, write what you think it will print on the specified lines:\n",
    "    2. ...\n",
    "    3. ...\n",
    "    4. ...\n",
    "    5. ..."
   ]
  },
  {
   "cell_type": "code",
   "execution_count": null,
   "id": "b7252eb8",
   "metadata": {},
   "outputs": [],
   "source": [
    "a_list = ['a', 'b', 'c', 'd', 'e']\n",
    "print(a_list)\n",
    "print(a_list[0:3])\n",
    "print(a_list[1:4])\n",
    "print(a_list[1:len(a_list) - 3])"
   ]
  },
  {
   "cell_type": "markdown",
   "id": "4ec4bd6a",
   "metadata": {},
   "source": [
    "A1b. Before running the block of code below, write what you think it will print on the specified lines:\n",
    "    3. ...\n",
    "    4. ...\n",
    "\n",
    "    8. ...\n",
    "    9. ...\n",
    "\n",
    "    13. ...\n",
    "    14. ...\n",
    "\n",
    "    18. ...\n",
    "    19. ..."
   ]
  },
  {
   "cell_type": "code",
   "execution_count": null,
   "id": "9acc1e1e",
   "metadata": {},
   "outputs": [],
   "source": [
    "a_list = ['a', 'b', 'c', 'd', 'e']\n",
    "b = a_list.remove('b')\n",
    "print(a_list)\n",
    "print(b)\n",
    "\n",
    "a_list = ['a', 'b', 'c', 'd', 'e']\n",
    "b = a_list.pop()\n",
    "print(a_list)\n",
    "print(b)\n",
    "\n",
    "a_list = ['a', 'b', 'c', 'd', 'e']\n",
    "b = a_list + ['abc']\n",
    "print(a_list)\n",
    "print(b)\n",
    "\n",
    "a_list = ['a', 'b', 'c', 'd', 'e']\n",
    "b = a_list.append('f')\n",
    "print(a_list)\n",
    "print(b)"
   ]
  },
  {
   "cell_type": "markdown",
   "id": "72804aa2",
   "metadata": {},
   "source": [
    "A2. Tic Tac Toe Beginnings\n",
    "    This activity will include two parts:\n",
    "\n",
    "    1. Write a print statement that will read from each value in the list, board_list, and print in this format:\n",
    "      1 | 2 | 3 \n",
    "     -----------\n",
    "      4 | 5 | 6 \n",
    "     -----------\n",
    "      7 | 8 | 9 \n",
    "\n",
    "    2. Allow a user to input a number from 1 to 9. Depending on what they put, update that number in the list to be an 'X'\n",
    "    ex: if the user says '6', the board shows:\n",
    "      1 | 2 | 3 \n",
    "     -----------\n",
    "      4 | 5 | X \n",
    "     -----------\n",
    "      7 | 8 | 9 \n"
   ]
  }
 ],
 "metadata": {
  "kernelspec": {
   "display_name": ".venv",
   "language": "python",
   "name": "python3"
  },
  "language_info": {
   "codemirror_mode": {
    "name": "ipython",
    "version": 3
   },
   "file_extension": ".py",
   "mimetype": "text/x-python",
   "name": "python",
   "nbconvert_exporter": "python",
   "pygments_lexer": "ipython3",
   "version": "3.12.3"
  }
 },
 "nbformat": 4,
 "nbformat_minor": 5
}
