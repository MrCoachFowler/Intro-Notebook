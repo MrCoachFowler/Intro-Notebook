{
 "cells": [
  {
   "cell_type": "markdown",
   "id": "dd70f8aa",
   "metadata": {},
   "source": [
    "    Warmup:\n",
    "Write a snippet of code that asks the user for a number then prints True if the number is even and False if it is odd"
   ]
  },
  {
   "cell_type": "code",
   "execution_count": null,
   "id": "294b3331",
   "metadata": {},
   "outputs": [],
   "source": [
    "user_num = input('Pick a whole number')\n",
    "\n",
    "..."
   ]
  },
  {
   "cell_type": "markdown",
   "id": "be419734",
   "metadata": {},
   "source": [
    "    1. If Statements\n",
    "If statements allow programmers to use boolean expressions to determine which lines of code should be run in a given situation.\n",
    "\n",
    "For instance, instead of just printing true and false, we can have human readable print statements based on conditions\n",
    "\n",
    "The boolean expression after 'if' is called the condition. If it is true, then the indented statement(s) get run. If not, they are not\n",
    "\n",
    "if *condition*: \n",
    "\n",
    "<-tab->*code to run*\n",
    "\n",
    "<-tab->*optional additional lines to run*\n",
    "\n",
    "<-tab->*...*"
   ]
  },
  {
   "cell_type": "code",
   "execution_count": null,
   "id": "39c81941",
   "metadata": {},
   "outputs": [],
   "source": [
    "wonGame = True\n",
    "if wonGame:\n",
    "    print('Hooray, you won!')"
   ]
  },
  {
   "cell_type": "markdown",
   "id": "9e40c08e",
   "metadata": {},
   "source": [
    "1a. Look at the sample code below and determine what will print based on the following inputs:\n",
    "\n",
    "1. animal = 'cat': ...\n",
    "2. animal = \"Dog\"?: ...\n",
    "3. animal = \"snake\": ..."
   ]
  },
  {
   "cell_type": "code",
   "execution_count": null,
   "id": "3540b575",
   "metadata": {},
   "outputs": [],
   "source": [
    "animal = input(\"What is your favorite animal? \")\n",
    "if animal == 'cat' or animal == 'dog':\n",
    "\tprint(animal + \"s are a great pet!\")\n",
    "else:\n",
    "\tprint(\"That is a good choice\")"
   ]
  },
  {
   "cell_type": "markdown",
   "id": "d8370722",
   "metadata": {},
   "source": [
    "1b. We might notice some indentation around these if and else statements. What is the signficance of the indentation?\n",
    "\n",
    "..."
   ]
  },
  {
   "cell_type": "markdown",
   "id": "39d7f67c",
   "metadata": {},
   "source": [
    "1c. The following code is bugged. Why?\n",
    "\n",
    "Line number of bug: ...\n",
    "\n",
    "Explanation of bug: ...\n",
    "\n",
    "Example of input which would show the bug: ...\n",
    "\n",
    "Example of input which would hide the bug: ..."
   ]
  },
  {
   "cell_type": "code",
   "execution_count": null,
   "id": "eaf45ec2",
   "metadata": {},
   "outputs": [],
   "source": [
    "animal = input(\"What is your favorite animal? \")\n",
    "if animal == 'cat' or 'dog':\n",
    "\tprint(animal + \"s are great pets!\")\n",
    "else:\n",
    "\tprint(\"That is a good choice\")"
   ]
  },
  {
   "cell_type": "markdown",
   "id": "3581e417",
   "metadata": {},
   "source": [
    "    2. Else statements\n",
    "Sometimes, when encountering a condition, you want to run certain code if its true and other if its not\n",
    "\n",
    "1. The else statement does not have a condition.\n",
    "2. Ihe else statement is used as a catch all for every condition not in the preceeding if statement.\n",
    "3. The else statement cannot be used without an if\n",
    "\n",
    ">if *condition*:\n",
    ">\n",
    "><-tab->*code to run if true*\n",
    ">\n",
    ">else:\n",
    ">\n",
    "><-tab->*code to run if false*\n",
    "\n",
    "For instance, if you are interested in whether someone can go to a 21+ concert, it might look like:"
   ]
  },
  {
   "cell_type": "code",
   "execution_count": null,
   "id": "16ecb708",
   "metadata": {},
   "outputs": [],
   "source": [
    "age = input('How old are you?')\n",
    "if age >= 21:\n",
    "    print('You can go! Getting you a ticket...')\n",
    "else:\n",
    "    print('Sorry, you cannot get a ticket yet')"
   ]
  },
  {
   "cell_type": "markdown",
   "id": "543b4c8c",
   "metadata": {},
   "source": [
    "2a. The following asks a user what their favorite high school is. Complete the code by adding an if/else pair:\n",
    "\n",
    "If they say TVHS, say 'Hawk yeah!'\n",
    "\n",
    "If they say anything else, say 'Youre wrong and a liar'"
   ]
  },
  {
   "cell_type": "code",
   "execution_count": null,
   "id": "fc242921",
   "metadata": {},
   "outputs": [],
   "source": [
    "fav_school = input('What is your favorite high school?')\n",
    "\n",
    "..."
   ]
  },
  {
   "cell_type": "markdown",
   "id": "98ac2288",
   "metadata": {},
   "source": [
    "    3. The elif statement\n",
    "    \n",
    "Sometimes there are more than two possible results from an outcome\n",
    "\n",
    "In these situations, elif can be used. \n",
    "\n",
    "1. elifs must have a condition\n",
    "\n",
    "2. elif cannot be used without an if statement\n",
    "\n",
    "3. It can be used without an else statement. \n",
    "\n",
    "The syntax is as follows:\n",
    "\n",
    ">if *condition*:\n",
    ">\n",
    "><-tab->*code to run if true*\n",
    ">\n",
    ">elif *condition*:\n",
    ">\n",
    "><-tab->*code to run when if condition is false but elif condition is true*\n",
    ">\n",
    ">else: #optional\n",
    ">\n",
    "><-tab->*code to run if niether the if condition or elif condition is true* #optional\n",
    "\n",
    "Let's assume our parents sent us to the store to get soda for a party. \n",
    "If they have sprite, get sprite\n",
    "If they have coke, get coke\n",
    "If they don't have sprite or coke, just get water\n",
    "\n",
    "This might look like:"
   ]
  },
  {
   "cell_type": "code",
   "execution_count": null,
   "id": "5c573415",
   "metadata": {},
   "outputs": [],
   "source": [
    "storeHasSprite = False\n",
    "storeHasCoke = True\n",
    "\n",
    "if storeHasSprite:\n",
    "    print('getting sprite')\n",
    "elif storeHasCoke:\n",
    "    print('getting coke')\n",
    "else:\n",
    "    print('getting water')"
   ]
  },
  {
   "cell_type": "markdown",
   "id": "51dacf67",
   "metadata": {},
   "source": [
    "3a. Look at the following code. Before running it, guess what would happen if the user inputted 'orange juice'?\n",
    "\n",
    "..."
   ]
  },
  {
   "cell_type": "code",
   "execution_count": null,
   "id": "1ba8b20f",
   "metadata": {},
   "outputs": [],
   "source": [
    "soda = input(\"Would you like coke, pepsi or water? \")\n",
    "if soda == \"coke\" :\n",
    "  print(\"I will bring you a coke right away.\")\n",
    "elif soda == \"pepsi\" :\n",
    "  print(\"Pepsi is on its way\")\n",
    "else:\n",
    "  print(\"Water it is\")"
   ]
  },
  {
   "cell_type": "markdown",
   "id": "ff3c5a4b",
   "metadata": {},
   "source": [
    "    ***Activities***"
   ]
  },
  {
   "cell_type": "markdown",
   "id": "0d14158d",
   "metadata": {},
   "source": [
    "A1a. For the following code, create a flow diagram outlining all possible paths through the code the user can take using google slides.\n",
    "\n",
    "Paste a link to your google slide: ..."
   ]
  },
  {
   "cell_type": "code",
   "execution_count": null,
   "id": "e345f901",
   "metadata": {},
   "outputs": [],
   "source": [
    "a = input(\"What... is your quest?\")\n",
    "b = 'to seek the Holy Grail'\n",
    "if a != b:\n",
    "    print(\"Go on, Off you go\")\n",
    "else:\n",
    "    b = input('What... is the air-speed velocity of an unladen swallow?')\n",
    "    if b == \"What do you mean? An African or European swallow?\":\n",
    "        print(\"I don't know that... AHHH [Bridgekeeper is thrown off bridge]\")\n",
    "    else:\n",
    "        print(\"[You are thrown off the bridge]\")"
   ]
  },
  {
   "cell_type": "markdown",
   "id": "4c7db601",
   "metadata": {},
   "source": [
    "A1b. The last if/else pair is identented underneath the first else. In two sentences or less, explain why:\n",
    "\n",
    "..."
   ]
  },
  {
   "cell_type": "markdown",
   "id": "3cc377ad",
   "metadata": {},
   "source": [
    "A2. Using google slides, create a flow diagram outlining all possible code paths this could take:\n",
    "\n",
    "Copy a link to your google slide here: ..."
   ]
  },
  {
   "cell_type": "code",
   "execution_count": null,
   "id": "b7fcdcf0",
   "metadata": {},
   "outputs": [],
   "source": [
    "user_input = input(\"What is your favorite color?\")\n",
    "if user_input == 'blue':\n",
    "    print(\"Blue Skidoo\")\n",
    "elif user_input == 'red':\n",
    "    print('Roses are red')\n",
    "elif user_input == 'yellow':\n",
    "    print('I live in a yellow submarine')\n",
    "elif user_input == 'green':\n",
    "    print('Eating your greens is good too')\n",
    "elif user_input == 'orange':\n",
    "    print('Orange you glad I didnt say banana?')\n",
    "else:\n",
    "    print('I dont recognize that color. Teach me!!!')"
   ]
  },
  {
   "cell_type": "markdown",
   "id": "5f72a3ac",
   "metadata": {},
   "source": [
    "A3. Providing triangle information\n",
    "The three types are isoceles, equilateral, and scalene\n",
    "The perimeter is found by adding all sides together\n",
    "\n",
    "The following program asks a user for three sides of their triangle, finish it by printing what type of triangle it is and its perimeter"
   ]
  },
  {
   "cell_type": "code",
   "execution_count": null,
   "id": "ae64f530",
   "metadata": {},
   "outputs": [],
   "source": [
    "s1 = input('How long is the first side of your triangle?')\n",
    "s2 = input('How long is the second side of your triangle?')\n",
    "s3 = input('How long is the third side of your triangle?')\n",
    "\n",
    "..."
   ]
  }
 ],
 "metadata": {
  "kernelspec": {
   "display_name": ".venv",
   "language": "python",
   "name": "python3"
  },
  "language_info": {
   "codemirror_mode": {
    "name": "ipython",
    "version": 3
   },
   "file_extension": ".py",
   "mimetype": "text/x-python",
   "name": "python",
   "nbconvert_exporter": "python",
   "pygments_lexer": "ipython3",
   "version": "3.12.3"
  }
 },
 "nbformat": 4,
 "nbformat_minor": 5
}
