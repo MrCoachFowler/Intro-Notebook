{
 "cells": [
  {
   "cell_type": "markdown",
   "id": "d46526f8",
   "metadata": {},
   "source": [
    "    Warmup: \n",
    "\n",
    "Before running the following code, answer these questions:\n",
    "\n",
    "1. What type are x_stage1 and y_stage1? ...\n",
    "\n",
    "2. What type are x_stage2 and y_stage2? ...\n",
    "\n",
    "3. How do you convert '100' to 100? ..."
   ]
  },
  {
   "cell_type": "code",
   "execution_count": null,
   "id": "8e35715d",
   "metadata": {},
   "outputs": [],
   "source": [
    "x_stage1 = 123\n",
    "y_stage1 = 456\n",
    "\n",
    "x_stage2 = str(x_stage1)\n",
    "y_stage2 = str(y_stage1)\n",
    "\n",
    "print(x_stage2 + y_stage2)"
   ]
  },
  {
   "cell_type": "markdown",
   "id": "06746d3b",
   "metadata": {},
   "source": [
    "    1. Data Types Examples\n",
    "\n",
    "Next to each data type, list at least two examples of each:\n",
    "\n",
    "1. Strings: ...\n",
    "\n",
    "2. Integers: ...\n",
    "\n",
    "3. ints: ...\n",
    "\n",
    "4. Booleans: ..."
   ]
  },
  {
   "cell_type": "markdown",
   "id": "a207dd30",
   "metadata": {},
   "source": [
    "There are two casts in the following code segment. For each, write the type its casting to and why it's needed\n",
    "1. ...\n",
    "2. ...\n"
   ]
  },
  {
   "cell_type": "code",
   "execution_count": null,
   "id": "1e402048",
   "metadata": {},
   "outputs": [],
   "source": [
    "ideal_guitar_count = input('How many guitars is it good to have?')\n",
    "real_ideal_guitar_count = 100 + int(ideal_guitar_count)\n",
    "print('It is ideal to have ' + str(real_ideal_guitar_count) + ' guitars')\n"
   ]
  },
  {
   "cell_type": "markdown",
   "id": "ba70ab01",
   "metadata": {},
   "source": [
    "    2. The type() function\n",
    "If you are ever unsure what type a variable is, simply print the type of it!\n",
    "\n",
    "print( type(some_variable) )\n",
    "\n",
    "ex:\n",
    "print( type(\"5\") ) #equals str"
   ]
  },
  {
   "cell_type": "markdown",
   "id": "6f9a9c1e",
   "metadata": {},
   "source": [
    "2a. Before running the following code, write what you think will be printed on each line:\n",
    "\n",
    "6. ...\n",
    "\n",
    "7. ...\n",
    "\n",
    "8. ...\n",
    "\n",
    "9. ..."
   ]
  },
  {
   "cell_type": "code",
   "execution_count": null,
   "id": "76d4401d",
   "metadata": {},
   "outputs": [],
   "source": [
    "v1 = \"a\"\n",
    "v2 = 123\n",
    "v3 = True\n",
    "v4 = 12.5\n",
    "\n",
    "print(type(v1))\n",
    "print(type(v2))\n",
    "print(type(v3))\n",
    "print(type(v4))"
   ]
  },
  {
   "cell_type": "markdown",
   "id": "a4099153",
   "metadata": {},
   "source": [
    "    3. Casting\n",
    "If a variable isn't the right data type, we can simply cast it!\n",
    "Below, write the function used to cast to each data type:\n",
    "\n",
    "Integer: ...\n",
    "\n",
    "String: ...\n",
    "\n",
    "Float: ...\n",
    "\n",
    "Boolean: ..."
   ]
  },
  {
   "cell_type": "markdown",
   "id": "9d5339f8",
   "metadata": {},
   "source": [
    "3a. For the following, add the proper casting so it prints as expected"
   ]
  },
  {
   "cell_type": "code",
   "execution_count": null,
   "id": "3f570e62",
   "metadata": {},
   "outputs": [],
   "source": [
    "floatVar = input('Give an example of a float')\n",
    "strVar = input('Give an example of a string')\n",
    "intVar = input('Give an example of an integer')\n",
    "boolVar = input('Give an example of a boolean')\n",
    "\n",
    "print('floatVar is a', type(floatVar), 'with a value of', floatVar)\n",
    "print('strVar is a', type(strVar), 'with a value of', strVar)\n",
    "print('intVar is a', type(intVar), 'with a value of', intVar)\n",
    "print('boolVar is a', type(boolVar), 'with a value of', boolVar)"
   ]
  },
  {
   "cell_type": "markdown",
   "id": "9998df1c",
   "metadata": {},
   "source": [
    "***Activities***"
   ]
  },
  {
   "cell_type": "markdown",
   "id": "a3918abe",
   "metadata": {},
   "source": [
    "A1. Using only variable swapping, make the following line of code print 1 then 2"
   ]
  },
  {
   "cell_type": "code",
   "execution_count": null,
   "id": "62c4cd14",
   "metadata": {},
   "outputs": [],
   "source": [
    "a = 2\n",
    "b = 1\n",
    "\n",
    "...\n",
    "\n",
    "print(a)\n",
    "print(b)"
   ]
  },
  {
   "cell_type": "markdown",
   "id": "5467dabf",
   "metadata": {},
   "source": [
    "A2-1. Before running the following code, guess what each line will print:\n",
    "\n",
    "1. ...\n",
    "\n",
    "2. ...\n",
    "\n",
    "3. ...\n",
    "\n",
    "4. ...\n",
    "\n",
    "5. ...\n",
    "\n",
    "6. ...\n",
    "\n",
    "7. ..."
   ]
  },
  {
   "cell_type": "code",
   "execution_count": null,
   "id": "81aae0f6",
   "metadata": {},
   "outputs": [],
   "source": [
    "print(  float('1')          )\n",
    "print(  str(1+'2')          )\n",
    "print(  str('2')            )\n",
    "print(  int('abc')          )\n",
    "print(  int(float('1.6'))   )\n",
    "print(  float(int(1.6))     )\n",
    "print(  str(float(1))       )"
   ]
  },
  {
   "cell_type": "markdown",
   "id": "32252cef",
   "metadata": {},
   "source": [
    "A2-2. After running it, were any different than expected? Why might these have acted this way?\n",
    "\n",
    "(You might need to comment out certain lines so that it will run to completion...)\n",
    "\n",
    "..."
   ]
  },
  {
   "cell_type": "markdown",
   "id": "707f1046",
   "metadata": {},
   "source": [
    "A3. \n",
    "1. Write a program that asks a user for a number input. Then prints that number divided by two.\n",
    "2. Then, altering only one line, make it so it only every prints whole numbers"
   ]
  },
  {
   "cell_type": "code",
   "execution_count": null,
   "id": "2164ec2c",
   "metadata": {},
   "outputs": [],
   "source": [
    "..."
   ]
  }
 ],
 "metadata": {
  "kernelspec": {
   "display_name": ".venv",
   "language": "python",
   "name": "python3"
  },
  "language_info": {
   "codemirror_mode": {
    "name": "ipython",
    "version": 3
   },
   "file_extension": ".py",
   "mimetype": "text/x-python",
   "name": "python",
   "nbconvert_exporter": "python",
   "pygments_lexer": "ipython3",
   "version": "3.12.3"
  }
 },
 "nbformat": 4,
 "nbformat_minor": 5
}
