{
 "cells": [
  {
   "cell_type": "markdown",
   "id": "f4a6f60a",
   "metadata": {},
   "source": [
    "    1. Boolean Expressions\n",
    "Boolean expressions allow programmers to create conditions\n",
    "\n",
    "Conditions allow programmers to decide which lines of code should be run in which situations\n",
    "\n",
    "Today we will focus on the parts and pieces of boolean expressions\n",
    "\n",
    ">Hint: the > and < signs are read left to right. \n",
    "\n",
    ">\\> The bigger side is first, so this is greater than\n",
    "\n",
    ">< The smaller side is first, so this is less than\n",
    "\n",
    "    Warmup\n",
    "Before running each item, list what you think it'll print on each line:\n",
    "1. ...\n",
    "2. ...\n",
    "3. ...\n",
    "4. ..."
   ]
  },
  {
   "cell_type": "code",
   "execution_count": null,
   "id": "f64113cb",
   "metadata": {},
   "outputs": [],
   "source": [
    "print(5 < 3)\n",
    "print(5 < 3)\n",
    "print( type(5 < 3) )\n",
    "print( type(5 > 3) )"
   ]
  },
  {
   "cell_type": "markdown",
   "id": "56a68b19",
   "metadata": {},
   "source": [
    "The following code will ask for your input. Make it run once where it prints True and once where it prints False\n",
    "\n",
    "How did you do it?\n",
    "\n",
    "..."
   ]
  },
  {
   "cell_type": "code",
   "execution_count": null,
   "id": "3f163c21",
   "metadata": {},
   "outputs": [],
   "source": [
    "my_fav_animal = \"cats\"\n",
    "user_fav_animal = input(\"What is your favorite animal?\")\n",
    "print(my_fav_animal == user_fav_animal)"
   ]
  },
  {
   "cell_type": "markdown",
   "id": "4024ccd0",
   "metadata": {},
   "source": [
    "    2. Multiconditional Boolean Statements\n",
    "What if we want to check more than one thing in a boolean expression?\n",
    "\n",
    "Introducting: 'or' and 'and'!\n",
    "\n",
    "They can be used together to create multiconditional booleans!\n",
    "\n",
    "Before running the code, predict what will be printed out:\n",
    "1. ...\n",
    "2. ...\n",
    "3. ..."
   ]
  },
  {
   "cell_type": "code",
   "execution_count": null,
   "id": "4c0a8474",
   "metadata": {},
   "outputs": [],
   "source": [
    "a = True\n",
    "b = False\n",
    "\n",
    "#part 1\n",
    "if a and b:\n",
    "    print('a')\n",
    "else:\n",
    "    print('b')\n",
    "\n",
    "#part 2\n",
    "if a or b:\n",
    "    print('c')\n",
    "else:\n",
    "    print('d')\n",
    "\n",
    "#part 3\n",
    "if (a or b) and a:\n",
    "    print('e')\n",
    "else:\n",
    "    print('f')\n"
   ]
  },
  {
   "cell_type": "markdown",
   "id": "15e155e4",
   "metadata": {},
   "source": [
    "2a. To get a drivers license in some state, people must have their driving permit for 6 months and be 16 or older. Below is a sample of some code that achieves this"
   ]
  },
  {
   "cell_type": "code",
   "execution_count": null,
   "id": "61938cfb",
   "metadata": {},
   "outputs": [],
   "source": [
    "#set test data\n",
    "monthsWithPermit = 6\n",
    "age = 17\n",
    "\n",
    "canGetLicense = monthsWithPermit >= 6 and age >= 16\n",
    "print(canGetLicense)"
   ]
  },
  {
   "cell_type": "markdown",
   "id": "83894920",
   "metadata": {},
   "source": [
    "2a1. What does the 'and' keyword do here?\n",
    "\n",
    "...\n",
    "\n",
    "\n",
    "2a2. What type do you think canGetLicense is? How could you check?\n",
    "\n",
    "...\n",
    "\n",
    "2a3. Why doesn't the following line of code work?\n",
    "\n",
    "..."
   ]
  },
  {
   "cell_type": "code",
   "execution_count": null,
   "id": "b0e474b0",
   "metadata": {},
   "outputs": [],
   "source": [
    "age = 14\n",
    "isTeenager = age > 12 and < 20\n",
    "print(isTeenager)"
   ]
  },
  {
   "cell_type": "markdown",
   "id": "fb881de4",
   "metadata": {},
   "source": [
    "2a4. Rewrite the line of code below so that it properly prints if the person is a teenager"
   ]
  },
  {
   "cell_type": "code",
   "execution_count": null,
   "id": "4470ea77",
   "metadata": {},
   "outputs": [],
   "source": [
    "age = 14\n",
    "isTeenager = age > 12 and < 20\n",
    "print(isTeenager)"
   ]
  },
  {
   "cell_type": "markdown",
   "id": "761b3dba",
   "metadata": {},
   "source": [
    "2b1. Below is a snippet of code to help detect whether something is a normal house pet\n",
    "\n",
    "What is the difference between an = and a == ?\n",
    "\n",
    "..."
   ]
  },
  {
   "cell_type": "code",
   "execution_count": null,
   "id": "8925829e",
   "metadata": {},
   "outputs": [],
   "source": [
    "pet = input('What is a common house pet?')\n",
    "\n",
    "isDog = pet == \"Dog\"\n",
    "isCat = pet == \"Cat\"\n",
    "isHamster = pet == \"Hamster\"\n",
    "\n",
    "isNormalHousePet = isDog or isCat or isHamster\n",
    "print(isNormalHousePet)"
   ]
  },
  {
   "cell_type": "markdown",
   "id": "fb3de6c3",
   "metadata": {},
   "source": [
    "2b2. Why did the devloper use 'or' instead of 'and' here?\n",
    "\n",
    "..."
   ]
  },
  {
   "cell_type": "markdown",
   "id": "f63c1a24",
   "metadata": {},
   "source": [
    "    3. Composition\n",
    "\n",
    "Composition refers to smaller expressions which make up a larger expression\n",
    "\n",
    "For instance:\n",
    "\n",
    "isNormalHousePet = isDog or isCat or isHamster\n",
    "\n",
    "can be rewritten as:\n",
    "\n",
    "isNormalHousePet = (pet == \"Dog\") or (pet == \"Cat\") or (pet == \"Hamster\")\n",
    "\n",
    "The parenthesis enclose smaller expressions which makeup one large expression. Parenthesis not only guide the computer on what to compute first, they also provide oranization so code is more human readable!\n",
    "\n",
    "Here's proof:\n"
   ]
  },
  {
   "cell_type": "code",
   "execution_count": null,
   "id": "eb642f5f",
   "metadata": {},
   "outputs": [],
   "source": [
    "a = 13 + 8 * 2\n",
    "b = (13 + 8) * 2\n",
    "print(a != b) #prints true because they are not the same!"
   ]
  },
  {
   "cell_type": "markdown",
   "id": "793e0532",
   "metadata": {},
   "source": [
    "***Activities***"
   ]
  },
  {
   "cell_type": "markdown",
   "id": "270d8c5c",
   "metadata": {},
   "source": [
    "A1. For each of the following code snippets, write whether you think it will be true or false. Then run it and see the actual result"
   ]
  },
  {
   "cell_type": "code",
   "execution_count": null,
   "id": "91a475fb",
   "metadata": {},
   "outputs": [],
   "source": [
    "a = 100\n",
    "b = \"science\"\n",
    "res = (a > 75) and (b == \"science\")\n",
    "print(res)"
   ]
  },
  {
   "cell_type": "markdown",
   "id": "8ef0d968",
   "metadata": {},
   "source": [
    "Expected Result:\n",
    "\n",
    "...\n",
    "\n",
    "Actual Result:\n",
    "\n",
    "..."
   ]
  },
  {
   "cell_type": "code",
   "execution_count": null,
   "id": "40fdecce",
   "metadata": {},
   "outputs": [],
   "source": [
    "a = 100\n",
    "b = \"science\"\n",
    "res = (a > 75) and (b != \"science\")\n",
    "print(res)"
   ]
  },
  {
   "cell_type": "markdown",
   "id": "d25ae3c2",
   "metadata": {},
   "source": [
    "Expected Result:\n",
    "\n",
    "...\n",
    "\n",
    "Actual Result:\n",
    "\n",
    "..."
   ]
  },
  {
   "cell_type": "code",
   "execution_count": null,
   "id": "93f3ff7c",
   "metadata": {},
   "outputs": [],
   "source": [
    "a = 100\n",
    "b = \"science\"\n",
    "res = (a > 75) or (b != \"science\")\n",
    "print(res)"
   ]
  },
  {
   "cell_type": "markdown",
   "id": "e72f18b4",
   "metadata": {},
   "source": [
    "Expected Result:\n",
    "\n",
    "...\n",
    "\n",
    "Actual Result:\n",
    "\n",
    "..."
   ]
  },
  {
   "cell_type": "code",
   "execution_count": null,
   "id": "9fbed9ac",
   "metadata": {},
   "outputs": [],
   "source": [
    "a = 100\n",
    "b = \"science\"\n",
    "c = True\n",
    "res = (not c) and (a > 75) and (b == \"science\")\n",
    "print(res)"
   ]
  },
  {
   "cell_type": "markdown",
   "id": "acc683b7",
   "metadata": {},
   "source": [
    "Expected Result:\n",
    "\n",
    "...\n",
    "\n",
    "Actual Result:\n",
    "\n",
    "..."
   ]
  },
  {
   "cell_type": "markdown",
   "id": "58da59b8",
   "metadata": {},
   "source": [
    "A2. \"Can I Be President?\" Program\n",
    "\n",
    "Write a program that asks for the users age, how long they have been a resident in the US, and if they are a natural born citizen (True or False)\n",
    "\n",
    "Then use that information and your knowledge of boolean expressions to print True if they can be president or False if they cannot"
   ]
  },
  {
   "cell_type": "code",
   "execution_count": null,
   "id": "f6f0b05a",
   "metadata": {},
   "outputs": [],
   "source": [
    "..."
   ]
  },
  {
   "cell_type": "markdown",
   "id": "e70a84c9",
   "metadata": {},
   "source": [
    "A3. \"Roller Coaster Rider?\" Program\n",
    "\n",
    "Create a program that asks for a users height, age, how many quarters they have, and if they have a frequent rider pass\n",
    "\n",
    "To ride the roller coaster:\n",
    "1. Over 50 inches tall (unless they're 18 then no requirement)\n",
    "2. Have at least 4 quarters (unless they are a frequent rider in which case they only need 2 quarters)\n",
    "\n",
    "print true if the person can ride, false if not"
   ]
  },
  {
   "cell_type": "code",
   "execution_count": null,
   "id": "f116e017",
   "metadata": {},
   "outputs": [],
   "source": [
    "..."
   ]
  },
  {
   "cell_type": "markdown",
   "id": "c7052ea6",
   "metadata": {},
   "source": [
    "A-Extension:\n",
    "\n",
    "There is an important role in software development known as quality assurance. These engineers device the most complicated workflows a user might give. In order to test that the roller coaster rider program works perfectly.\n",
    "\n",
    "For instance, one case might be:\n",
    "\n",
    "age: 18\n",
    "\n",
    "height: 45\"\n",
    "\n",
    "quarters: 5\n",
    "\n",
    "frequent rider: False\n",
    "\n",
    "This test data has a rider who is too short but they are 18 so they should be allowed to ride.\n",
    "\n",
    "Come up with two more example test data that a quality assurance engineer might want to double check:\n",
    "\n",
    "1.\n",
    "    ...\n",
    "\n",
    "2. \n",
    "    ..."
   ]
  }
 ],
 "metadata": {
  "kernelspec": {
   "display_name": ".venv",
   "language": "python",
   "name": "python3"
  },
  "language_info": {
   "codemirror_mode": {
    "name": "ipython",
    "version": 3
   },
   "file_extension": ".py",
   "mimetype": "text/x-python",
   "name": "python",
   "nbconvert_exporter": "python",
   "pygments_lexer": "ipython3",
   "version": "3.12.2"
  }
 },
 "nbformat": 4,
 "nbformat_minor": 5
}
